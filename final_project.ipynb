{
  "nbformat": 4,
  "nbformat_minor": 0,
  "metadata": {
    "colab": {
      "name": "final_project.ipynb",
      "provenance": [],
      "collapsed_sections": [
        "RzpwPrGAhdIO"
      ],
      "toc_visible": true,
      "authorship_tag": "ABX9TyNaYtyg/fgRBc9P0oitArIo",
      "include_colab_link": true
    },
    "kernelspec": {
      "name": "python3",
      "display_name": "Python 3"
    },
    "language_info": {
      "name": "python"
    }
  },
  "cells": [
    {
      "cell_type": "markdown",
      "metadata": {
        "id": "view-in-github",
        "colab_type": "text"
      },
      "source": [
        "<a href=\"https://colab.research.google.com/github/prateekazam/ml/blob/main/final_project.ipynb\" target=\"_parent\"><img src=\"https://colab.research.google.com/assets/colab-badge.svg\" alt=\"Open In Colab\"/></a>"
      ]
    },
    {
      "cell_type": "code",
      "metadata": {
        "id": "qe9OKg8u5pnc"
      },
      "source": [
        "# https://data.cityofnewyork.us/Public-Safety/NYPD-Arrest-Data-Year-to-Date-/uip8-fykc"
      ],
      "execution_count": 1,
      "outputs": []
    },
    {
      "cell_type": "markdown",
      "metadata": {
        "id": "oUH3G7Bc5tK9"
      },
      "source": [
        "# Literature review"
      ]
    },
    {
      "cell_type": "markdown",
      "metadata": {
        "id": "CSXTN5c57VSo"
      },
      "source": [
        "# Data Import and descriptions"
      ]
    },
    {
      "cell_type": "markdown",
      "metadata": {
        "id": "3gnUM_wi7fJc"
      },
      "source": [
        "## Loading data"
      ]
    },
    {
      "cell_type": "code",
      "metadata": {
        "colab": {
          "base_uri": "https://localhost:8080/"
        },
        "id": "Oh0fqkwg7cVF",
        "outputId": "e40511b0-23a9-4ba2-cbdf-99bd470f67d2"
      },
      "source": [
        "from google.colab import drive\n",
        "drive.mount('/content/drive')"
      ],
      "execution_count": 2,
      "outputs": [
        {
          "output_type": "stream",
          "text": [
            "Mounted at /content/drive\n"
          ],
          "name": "stdout"
        }
      ]
    },
    {
      "cell_type": "code",
      "metadata": {
        "id": "V2vXlrB07uPH"
      },
      "source": [
        "import pandas as pd\n",
        "df_current  = pd.read_csv('/content/drive/MyDrive/2021-SUMMER-DATA-VIZ/NYPD_Arrest_Data__Year_to_Date_.csv')\n",
        "df_historic = pd.read_csv('/content/drive/MyDrive/2021-SUMMER-DATA-VIZ/NYPD_Arrests_Data__Historic_.csv')"
      ],
      "execution_count": 3,
      "outputs": []
    },
    {
      "cell_type": "code",
      "metadata": {
        "colab": {
          "base_uri": "https://localhost:8080/"
        },
        "id": "Elo1QQiL7zQS",
        "outputId": "a98e4b97-95e0-4d5c-bad5-e2d1a956e802"
      },
      "source": [
        "print(' data shape is ' , df_current.shape  , 'historic ' , df_historic.shape )"
      ],
      "execution_count": 4,
      "outputs": [
        {
          "output_type": "stream",
          "text": [
            " data shape is  (39144, 19) historic  (5153369, 19)\n"
          ],
          "name": "stdout"
        }
      ]
    },
    {
      "cell_type": "code",
      "metadata": {
        "colab": {
          "base_uri": "https://localhost:8080/",
          "height": 250
        },
        "id": "TJhuacSA8BJO",
        "outputId": "62268ea2-34a0-45bb-eec3-851336876b6f"
      },
      "source": [
        "df_current.head(2)"
      ],
      "execution_count": 5,
      "outputs": [
        {
          "output_type": "execute_result",
          "data": {
            "text/html": [
              "<div>\n",
              "<style scoped>\n",
              "    .dataframe tbody tr th:only-of-type {\n",
              "        vertical-align: middle;\n",
              "    }\n",
              "\n",
              "    .dataframe tbody tr th {\n",
              "        vertical-align: top;\n",
              "    }\n",
              "\n",
              "    .dataframe thead th {\n",
              "        text-align: right;\n",
              "    }\n",
              "</style>\n",
              "<table border=\"1\" class=\"dataframe\">\n",
              "  <thead>\n",
              "    <tr style=\"text-align: right;\">\n",
              "      <th></th>\n",
              "      <th>ARREST_KEY</th>\n",
              "      <th>ARREST_DATE</th>\n",
              "      <th>PD_CD</th>\n",
              "      <th>PD_DESC</th>\n",
              "      <th>KY_CD</th>\n",
              "      <th>OFNS_DESC</th>\n",
              "      <th>LAW_CODE</th>\n",
              "      <th>LAW_CAT_CD</th>\n",
              "      <th>ARREST_BORO</th>\n",
              "      <th>ARREST_PRECINCT</th>\n",
              "      <th>JURISDICTION_CODE</th>\n",
              "      <th>AGE_GROUP</th>\n",
              "      <th>PERP_SEX</th>\n",
              "      <th>PERP_RACE</th>\n",
              "      <th>X_COORD_CD</th>\n",
              "      <th>Y_COORD_CD</th>\n",
              "      <th>Latitude</th>\n",
              "      <th>Longitude</th>\n",
              "      <th>New Georeferenced Column</th>\n",
              "    </tr>\n",
              "  </thead>\n",
              "  <tbody>\n",
              "    <tr>\n",
              "      <th>0</th>\n",
              "      <td>226147627</td>\n",
              "      <td>03/26/2021</td>\n",
              "      <td>177.0</td>\n",
              "      <td>SEXUAL ABUSE</td>\n",
              "      <td>116.0</td>\n",
              "      <td>SEX CRIMES</td>\n",
              "      <td>PL 1306501</td>\n",
              "      <td>F</td>\n",
              "      <td>M</td>\n",
              "      <td>5</td>\n",
              "      <td>0</td>\n",
              "      <td>25-44</td>\n",
              "      <td>M</td>\n",
              "      <td>WHITE</td>\n",
              "      <td>984946</td>\n",
              "      <td>200203</td>\n",
              "      <td>40.716196</td>\n",
              "      <td>-73.997491</td>\n",
              "      <td>POINT (-73.99749074599998 40.716195914000025)</td>\n",
              "    </tr>\n",
              "    <tr>\n",
              "      <th>1</th>\n",
              "      <td>226113029</td>\n",
              "      <td>03/25/2021</td>\n",
              "      <td>101.0</td>\n",
              "      <td>ASSAULT 3</td>\n",
              "      <td>344.0</td>\n",
              "      <td>ASSAULT 3 &amp; RELATED OFFENSES</td>\n",
              "      <td>PL 1200001</td>\n",
              "      <td>M</td>\n",
              "      <td>K</td>\n",
              "      <td>84</td>\n",
              "      <td>0</td>\n",
              "      <td>18-24</td>\n",
              "      <td>M</td>\n",
              "      <td>BLACK</td>\n",
              "      <td>987792</td>\n",
              "      <td>190460</td>\n",
              "      <td>40.689453</td>\n",
              "      <td>-73.987229</td>\n",
              "      <td>POINT (-73.98722940999993 40.689452980000056)</td>\n",
              "    </tr>\n",
              "  </tbody>\n",
              "</table>\n",
              "</div>"
            ],
            "text/plain": [
              "   ARREST_KEY  ...                       New Georeferenced Column\n",
              "0   226147627  ...  POINT (-73.99749074599998 40.716195914000025)\n",
              "1   226113029  ...  POINT (-73.98722940999993 40.689452980000056)\n",
              "\n",
              "[2 rows x 19 columns]"
            ]
          },
          "metadata": {
            "tags": []
          },
          "execution_count": 5
        }
      ]
    },
    {
      "cell_type": "code",
      "metadata": {
        "colab": {
          "base_uri": "https://localhost:8080/",
          "height": 216
        },
        "id": "oXc9--jP8FM0",
        "outputId": "b9767f0a-bfb9-466a-945a-2e11b09df03d"
      },
      "source": [
        "df_historic.head(2)"
      ],
      "execution_count": 6,
      "outputs": [
        {
          "output_type": "execute_result",
          "data": {
            "text/html": [
              "<div>\n",
              "<style scoped>\n",
              "    .dataframe tbody tr th:only-of-type {\n",
              "        vertical-align: middle;\n",
              "    }\n",
              "\n",
              "    .dataframe tbody tr th {\n",
              "        vertical-align: top;\n",
              "    }\n",
              "\n",
              "    .dataframe thead th {\n",
              "        text-align: right;\n",
              "    }\n",
              "</style>\n",
              "<table border=\"1\" class=\"dataframe\">\n",
              "  <thead>\n",
              "    <tr style=\"text-align: right;\">\n",
              "      <th></th>\n",
              "      <th>ARREST_KEY</th>\n",
              "      <th>ARREST_DATE</th>\n",
              "      <th>PD_CD</th>\n",
              "      <th>PD_DESC</th>\n",
              "      <th>KY_CD</th>\n",
              "      <th>OFNS_DESC</th>\n",
              "      <th>LAW_CODE</th>\n",
              "      <th>LAW_CAT_CD</th>\n",
              "      <th>ARREST_BORO</th>\n",
              "      <th>ARREST_PRECINCT</th>\n",
              "      <th>JURISDICTION_CODE</th>\n",
              "      <th>AGE_GROUP</th>\n",
              "      <th>PERP_SEX</th>\n",
              "      <th>PERP_RACE</th>\n",
              "      <th>X_COORD_CD</th>\n",
              "      <th>Y_COORD_CD</th>\n",
              "      <th>Latitude</th>\n",
              "      <th>Longitude</th>\n",
              "      <th>Lon_Lat</th>\n",
              "    </tr>\n",
              "  </thead>\n",
              "  <tbody>\n",
              "    <tr>\n",
              "      <th>0</th>\n",
              "      <td>32311380</td>\n",
              "      <td>06/18/2007</td>\n",
              "      <td>511.0</td>\n",
              "      <td>CONTROLLED SUBSTANCE, POSSESSION 7</td>\n",
              "      <td>235.0</td>\n",
              "      <td>DANGEROUS DRUGS</td>\n",
              "      <td>PL 2200300</td>\n",
              "      <td>M</td>\n",
              "      <td>Q</td>\n",
              "      <td>27</td>\n",
              "      <td>1.0</td>\n",
              "      <td>18-24</td>\n",
              "      <td>M</td>\n",
              "      <td>BLACK</td>\n",
              "      <td>NaN</td>\n",
              "      <td>NaN</td>\n",
              "      <td>NaN</td>\n",
              "      <td>NaN</td>\n",
              "      <td>NaN</td>\n",
              "    </tr>\n",
              "    <tr>\n",
              "      <th>1</th>\n",
              "      <td>192799737</td>\n",
              "      <td>01/26/2019</td>\n",
              "      <td>177.0</td>\n",
              "      <td>SEXUAL ABUSE</td>\n",
              "      <td>116.0</td>\n",
              "      <td>SEX CRIMES</td>\n",
              "      <td>PL 1306503</td>\n",
              "      <td>F</td>\n",
              "      <td>M</td>\n",
              "      <td>25</td>\n",
              "      <td>0.0</td>\n",
              "      <td>45-64</td>\n",
              "      <td>M</td>\n",
              "      <td>BLACK</td>\n",
              "      <td>1000555.0</td>\n",
              "      <td>230994.0</td>\n",
              "      <td>40.800694</td>\n",
              "      <td>-73.941109</td>\n",
              "      <td>POINT (-73.94110928599997 40.800694331000045)</td>\n",
              "    </tr>\n",
              "  </tbody>\n",
              "</table>\n",
              "</div>"
            ],
            "text/plain": [
              "   ARREST_KEY  ...                                        Lon_Lat\n",
              "0    32311380  ...                                            NaN\n",
              "1   192799737  ...  POINT (-73.94110928599997 40.800694331000045)\n",
              "\n",
              "[2 rows x 19 columns]"
            ]
          },
          "metadata": {
            "tags": []
          },
          "execution_count": 6
        }
      ]
    },
    {
      "cell_type": "code",
      "metadata": {
        "colab": {
          "base_uri": "https://localhost:8080/"
        },
        "id": "oKNE-6Lh8Kep",
        "outputId": "176cb394-9170-45f0-8a6d-0973a661e33d"
      },
      "source": [
        "df_total  = pd.concat([df_current,df_historic])\n",
        "print(' total data shape is ' , df_total.shape )"
      ],
      "execution_count": 7,
      "outputs": [
        {
          "output_type": "stream",
          "text": [
            " total data shape is  (5192513, 20)\n"
          ],
          "name": "stdout"
        }
      ]
    },
    {
      "cell_type": "code",
      "metadata": {
        "colab": {
          "base_uri": "https://localhost:8080/"
        },
        "id": "quElFW5f8PeQ",
        "outputId": "65382be3-aa82-437e-c3d7-5232abd48adc"
      },
      "source": [
        "df_total.info()"
      ],
      "execution_count": 8,
      "outputs": [
        {
          "output_type": "stream",
          "text": [
            "<class 'pandas.core.frame.DataFrame'>\n",
            "Int64Index: 5192513 entries, 0 to 5153368\n",
            "Data columns (total 20 columns):\n",
            " #   Column                    Dtype  \n",
            "---  ------                    -----  \n",
            " 0   ARREST_KEY                int64  \n",
            " 1   ARREST_DATE               object \n",
            " 2   PD_CD                     float64\n",
            " 3   PD_DESC                   object \n",
            " 4   KY_CD                     float64\n",
            " 5   OFNS_DESC                 object \n",
            " 6   LAW_CODE                  object \n",
            " 7   LAW_CAT_CD                object \n",
            " 8   ARREST_BORO               object \n",
            " 9   ARREST_PRECINCT           int64  \n",
            " 10  JURISDICTION_CODE         float64\n",
            " 11  AGE_GROUP                 object \n",
            " 12  PERP_SEX                  object \n",
            " 13  PERP_RACE                 object \n",
            " 14  X_COORD_CD                float64\n",
            " 15  Y_COORD_CD                float64\n",
            " 16  Latitude                  float64\n",
            " 17  Longitude                 float64\n",
            " 18  New Georeferenced Column  object \n",
            " 19  Lon_Lat                   object \n",
            "dtypes: float64(7), int64(2), object(11)\n",
            "memory usage: 831.9+ MB\n"
          ],
          "name": "stdout"
        }
      ]
    },
    {
      "cell_type": "code",
      "metadata": {
        "colab": {
          "base_uri": "https://localhost:8080/",
          "height": 250
        },
        "id": "iN3A_tNT8jK7",
        "outputId": "f54985d5-9a98-48f0-d91b-cf186d485bc0"
      },
      "source": [
        "df_total.head(2)"
      ],
      "execution_count": 9,
      "outputs": [
        {
          "output_type": "execute_result",
          "data": {
            "text/html": [
              "<div>\n",
              "<style scoped>\n",
              "    .dataframe tbody tr th:only-of-type {\n",
              "        vertical-align: middle;\n",
              "    }\n",
              "\n",
              "    .dataframe tbody tr th {\n",
              "        vertical-align: top;\n",
              "    }\n",
              "\n",
              "    .dataframe thead th {\n",
              "        text-align: right;\n",
              "    }\n",
              "</style>\n",
              "<table border=\"1\" class=\"dataframe\">\n",
              "  <thead>\n",
              "    <tr style=\"text-align: right;\">\n",
              "      <th></th>\n",
              "      <th>ARREST_KEY</th>\n",
              "      <th>ARREST_DATE</th>\n",
              "      <th>PD_CD</th>\n",
              "      <th>PD_DESC</th>\n",
              "      <th>KY_CD</th>\n",
              "      <th>OFNS_DESC</th>\n",
              "      <th>LAW_CODE</th>\n",
              "      <th>LAW_CAT_CD</th>\n",
              "      <th>ARREST_BORO</th>\n",
              "      <th>ARREST_PRECINCT</th>\n",
              "      <th>JURISDICTION_CODE</th>\n",
              "      <th>AGE_GROUP</th>\n",
              "      <th>PERP_SEX</th>\n",
              "      <th>PERP_RACE</th>\n",
              "      <th>X_COORD_CD</th>\n",
              "      <th>Y_COORD_CD</th>\n",
              "      <th>Latitude</th>\n",
              "      <th>Longitude</th>\n",
              "      <th>New Georeferenced Column</th>\n",
              "      <th>Lon_Lat</th>\n",
              "    </tr>\n",
              "  </thead>\n",
              "  <tbody>\n",
              "    <tr>\n",
              "      <th>0</th>\n",
              "      <td>226147627</td>\n",
              "      <td>03/26/2021</td>\n",
              "      <td>177.0</td>\n",
              "      <td>SEXUAL ABUSE</td>\n",
              "      <td>116.0</td>\n",
              "      <td>SEX CRIMES</td>\n",
              "      <td>PL 1306501</td>\n",
              "      <td>F</td>\n",
              "      <td>M</td>\n",
              "      <td>5</td>\n",
              "      <td>0.0</td>\n",
              "      <td>25-44</td>\n",
              "      <td>M</td>\n",
              "      <td>WHITE</td>\n",
              "      <td>984946.0</td>\n",
              "      <td>200203.0</td>\n",
              "      <td>40.716196</td>\n",
              "      <td>-73.997491</td>\n",
              "      <td>POINT (-73.99749074599998 40.716195914000025)</td>\n",
              "      <td>NaN</td>\n",
              "    </tr>\n",
              "    <tr>\n",
              "      <th>1</th>\n",
              "      <td>226113029</td>\n",
              "      <td>03/25/2021</td>\n",
              "      <td>101.0</td>\n",
              "      <td>ASSAULT 3</td>\n",
              "      <td>344.0</td>\n",
              "      <td>ASSAULT 3 &amp; RELATED OFFENSES</td>\n",
              "      <td>PL 1200001</td>\n",
              "      <td>M</td>\n",
              "      <td>K</td>\n",
              "      <td>84</td>\n",
              "      <td>0.0</td>\n",
              "      <td>18-24</td>\n",
              "      <td>M</td>\n",
              "      <td>BLACK</td>\n",
              "      <td>987792.0</td>\n",
              "      <td>190460.0</td>\n",
              "      <td>40.689453</td>\n",
              "      <td>-73.987229</td>\n",
              "      <td>POINT (-73.98722940999993 40.689452980000056)</td>\n",
              "      <td>NaN</td>\n",
              "    </tr>\n",
              "  </tbody>\n",
              "</table>\n",
              "</div>"
            ],
            "text/plain": [
              "   ARREST_KEY  ... Lon_Lat\n",
              "0   226147627  ...     NaN\n",
              "1   226113029  ...     NaN\n",
              "\n",
              "[2 rows x 20 columns]"
            ]
          },
          "metadata": {
            "tags": []
          },
          "execution_count": 9
        }
      ]
    },
    {
      "cell_type": "code",
      "metadata": {
        "id": "E5dCa-lI8ngF"
      },
      "source": [
        "df_clean = df_total.drop(columns=['New Georeferenced Column','Lon_Lat'])"
      ],
      "execution_count": 10,
      "outputs": []
    },
    {
      "cell_type": "code",
      "metadata": {
        "colab": {
          "base_uri": "https://localhost:8080/",
          "height": 199
        },
        "id": "6lX00CgN9KhI",
        "outputId": "a2855bd5-8349-421b-ea05-e631f2f00a20"
      },
      "source": [
        "df_clean.head(2)"
      ],
      "execution_count": 11,
      "outputs": [
        {
          "output_type": "execute_result",
          "data": {
            "text/html": [
              "<div>\n",
              "<style scoped>\n",
              "    .dataframe tbody tr th:only-of-type {\n",
              "        vertical-align: middle;\n",
              "    }\n",
              "\n",
              "    .dataframe tbody tr th {\n",
              "        vertical-align: top;\n",
              "    }\n",
              "\n",
              "    .dataframe thead th {\n",
              "        text-align: right;\n",
              "    }\n",
              "</style>\n",
              "<table border=\"1\" class=\"dataframe\">\n",
              "  <thead>\n",
              "    <tr style=\"text-align: right;\">\n",
              "      <th></th>\n",
              "      <th>ARREST_KEY</th>\n",
              "      <th>ARREST_DATE</th>\n",
              "      <th>PD_CD</th>\n",
              "      <th>PD_DESC</th>\n",
              "      <th>KY_CD</th>\n",
              "      <th>OFNS_DESC</th>\n",
              "      <th>LAW_CODE</th>\n",
              "      <th>LAW_CAT_CD</th>\n",
              "      <th>ARREST_BORO</th>\n",
              "      <th>ARREST_PRECINCT</th>\n",
              "      <th>JURISDICTION_CODE</th>\n",
              "      <th>AGE_GROUP</th>\n",
              "      <th>PERP_SEX</th>\n",
              "      <th>PERP_RACE</th>\n",
              "      <th>X_COORD_CD</th>\n",
              "      <th>Y_COORD_CD</th>\n",
              "      <th>Latitude</th>\n",
              "      <th>Longitude</th>\n",
              "    </tr>\n",
              "  </thead>\n",
              "  <tbody>\n",
              "    <tr>\n",
              "      <th>0</th>\n",
              "      <td>226147627</td>\n",
              "      <td>03/26/2021</td>\n",
              "      <td>177.0</td>\n",
              "      <td>SEXUAL ABUSE</td>\n",
              "      <td>116.0</td>\n",
              "      <td>SEX CRIMES</td>\n",
              "      <td>PL 1306501</td>\n",
              "      <td>F</td>\n",
              "      <td>M</td>\n",
              "      <td>5</td>\n",
              "      <td>0.0</td>\n",
              "      <td>25-44</td>\n",
              "      <td>M</td>\n",
              "      <td>WHITE</td>\n",
              "      <td>984946.0</td>\n",
              "      <td>200203.0</td>\n",
              "      <td>40.716196</td>\n",
              "      <td>-73.997491</td>\n",
              "    </tr>\n",
              "    <tr>\n",
              "      <th>1</th>\n",
              "      <td>226113029</td>\n",
              "      <td>03/25/2021</td>\n",
              "      <td>101.0</td>\n",
              "      <td>ASSAULT 3</td>\n",
              "      <td>344.0</td>\n",
              "      <td>ASSAULT 3 &amp; RELATED OFFENSES</td>\n",
              "      <td>PL 1200001</td>\n",
              "      <td>M</td>\n",
              "      <td>K</td>\n",
              "      <td>84</td>\n",
              "      <td>0.0</td>\n",
              "      <td>18-24</td>\n",
              "      <td>M</td>\n",
              "      <td>BLACK</td>\n",
              "      <td>987792.0</td>\n",
              "      <td>190460.0</td>\n",
              "      <td>40.689453</td>\n",
              "      <td>-73.987229</td>\n",
              "    </tr>\n",
              "  </tbody>\n",
              "</table>\n",
              "</div>"
            ],
            "text/plain": [
              "   ARREST_KEY ARREST_DATE  PD_CD  ... Y_COORD_CD   Latitude  Longitude\n",
              "0   226147627  03/26/2021  177.0  ...   200203.0  40.716196 -73.997491\n",
              "1   226113029  03/25/2021  101.0  ...   190460.0  40.689453 -73.987229\n",
              "\n",
              "[2 rows x 18 columns]"
            ]
          },
          "metadata": {
            "tags": []
          },
          "execution_count": 11
        }
      ]
    },
    {
      "cell_type": "code",
      "metadata": {
        "colab": {
          "base_uri": "https://localhost:8080/",
          "height": 317
        },
        "id": "bZ1wEIIF9UKL",
        "outputId": "ddc65740-4d52-47f0-9cca-493dfdc5d13c"
      },
      "source": [
        "df_clean.describe()"
      ],
      "execution_count": 12,
      "outputs": [
        {
          "output_type": "execute_result",
          "data": {
            "text/html": [
              "<div>\n",
              "<style scoped>\n",
              "    .dataframe tbody tr th:only-of-type {\n",
              "        vertical-align: middle;\n",
              "    }\n",
              "\n",
              "    .dataframe tbody tr th {\n",
              "        vertical-align: top;\n",
              "    }\n",
              "\n",
              "    .dataframe thead th {\n",
              "        text-align: right;\n",
              "    }\n",
              "</style>\n",
              "<table border=\"1\" class=\"dataframe\">\n",
              "  <thead>\n",
              "    <tr style=\"text-align: right;\">\n",
              "      <th></th>\n",
              "      <th>ARREST_KEY</th>\n",
              "      <th>PD_CD</th>\n",
              "      <th>KY_CD</th>\n",
              "      <th>ARREST_PRECINCT</th>\n",
              "      <th>JURISDICTION_CODE</th>\n",
              "      <th>X_COORD_CD</th>\n",
              "      <th>Y_COORD_CD</th>\n",
              "      <th>Latitude</th>\n",
              "      <th>Longitude</th>\n",
              "    </tr>\n",
              "  </thead>\n",
              "  <tbody>\n",
              "    <tr>\n",
              "      <th>count</th>\n",
              "      <td>5.192513e+06</td>\n",
              "      <td>5.192220e+06</td>\n",
              "      <td>5.183437e+06</td>\n",
              "      <td>5.192513e+06</td>\n",
              "      <td>5.192503e+06</td>\n",
              "      <td>5.192512e+06</td>\n",
              "      <td>5.192512e+06</td>\n",
              "      <td>5.192512e+06</td>\n",
              "      <td>5.192512e+06</td>\n",
              "    </tr>\n",
              "    <tr>\n",
              "      <th>mean</th>\n",
              "      <td>9.997502e+07</td>\n",
              "      <td>5.081646e+02</td>\n",
              "      <td>2.995717e+02</td>\n",
              "      <td>6.071974e+01</td>\n",
              "      <td>1.303259e+00</td>\n",
              "      <td>1.005365e+06</td>\n",
              "      <td>2.147311e+05</td>\n",
              "      <td>4.075585e+01</td>\n",
              "      <td>-7.392375e+01</td>\n",
              "    </tr>\n",
              "    <tr>\n",
              "      <th>std</th>\n",
              "      <td>5.588156e+07</td>\n",
              "      <td>2.643690e+02</td>\n",
              "      <td>1.810516e+02</td>\n",
              "      <td>3.432564e+01</td>\n",
              "      <td>9.444072e+00</td>\n",
              "      <td>2.005470e+04</td>\n",
              "      <td>1.620989e+05</td>\n",
              "      <td>4.381989e-01</td>\n",
              "      <td>7.237756e-02</td>\n",
              "    </tr>\n",
              "    <tr>\n",
              "      <th>min</th>\n",
              "      <td>9.926901e+06</td>\n",
              "      <td>0.000000e+00</td>\n",
              "      <td>1.010000e+02</td>\n",
              "      <td>1.000000e+00</td>\n",
              "      <td>0.000000e+00</td>\n",
              "      <td>9.133570e+05</td>\n",
              "      <td>1.211310e+05</td>\n",
              "      <td>4.049891e+01</td>\n",
              "      <td>-7.425494e+01</td>\n",
              "    </tr>\n",
              "    <tr>\n",
              "      <th>25%</th>\n",
              "      <td>6.044490e+07</td>\n",
              "      <td>2.690000e+02</td>\n",
              "      <td>1.260000e+02</td>\n",
              "      <td>3.300000e+01</td>\n",
              "      <td>0.000000e+00</td>\n",
              "      <td>9.933360e+05</td>\n",
              "      <td>1.868570e+05</td>\n",
              "      <td>4.067952e+01</td>\n",
              "      <td>-7.396719e+01</td>\n",
              "    </tr>\n",
              "    <tr>\n",
              "      <th>50%</th>\n",
              "      <td>8.479117e+07</td>\n",
              "      <td>5.110000e+02</td>\n",
              "      <td>3.410000e+02</td>\n",
              "      <td>6.000000e+01</td>\n",
              "      <td>0.000000e+00</td>\n",
              "      <td>1.004904e+06</td>\n",
              "      <td>2.093710e+05</td>\n",
              "      <td>4.074131e+01</td>\n",
              "      <td>-7.392544e+01</td>\n",
              "    </tr>\n",
              "    <tr>\n",
              "      <th>75%</th>\n",
              "      <td>1.472280e+08</td>\n",
              "      <td>7.480000e+02</td>\n",
              "      <td>3.480000e+02</td>\n",
              "      <td>8.400000e+01</td>\n",
              "      <td>0.000000e+00</td>\n",
              "      <td>1.015900e+06</td>\n",
              "      <td>2.366140e+05</td>\n",
              "      <td>4.081609e+01</td>\n",
              "      <td>-7.388565e+01</td>\n",
              "    </tr>\n",
              "    <tr>\n",
              "      <th>max</th>\n",
              "      <td>2.263952e+08</td>\n",
              "      <td>9.970000e+02</td>\n",
              "      <td>9.950000e+02</td>\n",
              "      <td>1.230000e+02</td>\n",
              "      <td>9.700000e+01</td>\n",
              "      <td>1.067302e+06</td>\n",
              "      <td>8.202360e+06</td>\n",
              "      <td>6.208307e+01</td>\n",
              "      <td>-7.368178e+01</td>\n",
              "    </tr>\n",
              "  </tbody>\n",
              "</table>\n",
              "</div>"
            ],
            "text/plain": [
              "         ARREST_KEY         PD_CD  ...      Latitude     Longitude\n",
              "count  5.192513e+06  5.192220e+06  ...  5.192512e+06  5.192512e+06\n",
              "mean   9.997502e+07  5.081646e+02  ...  4.075585e+01 -7.392375e+01\n",
              "std    5.588156e+07  2.643690e+02  ...  4.381989e-01  7.237756e-02\n",
              "min    9.926901e+06  0.000000e+00  ...  4.049891e+01 -7.425494e+01\n",
              "25%    6.044490e+07  2.690000e+02  ...  4.067952e+01 -7.396719e+01\n",
              "50%    8.479117e+07  5.110000e+02  ...  4.074131e+01 -7.392544e+01\n",
              "75%    1.472280e+08  7.480000e+02  ...  4.081609e+01 -7.388565e+01\n",
              "max    2.263952e+08  9.970000e+02  ...  6.208307e+01 -7.368178e+01\n",
              "\n",
              "[8 rows x 9 columns]"
            ]
          },
          "metadata": {
            "tags": []
          },
          "execution_count": 12
        }
      ]
    },
    {
      "cell_type": "markdown",
      "metadata": {
        "id": "ZpXq_68ApJ3X"
      },
      "source": [
        "## Columns descriptions"
      ]
    },
    {
      "cell_type": "markdown",
      "metadata": {
        "id": "hxh4G5MJnPpE"
      },
      "source": [
        "\n",
        "1. ARREST_KEY\t Randomly generated persistent ID for each arrest Plain Text\n",
        "1. ARREST_DATE Exact date of arrest for the reported event\n",
        "Date & Time\n",
        "1. PD_CD\tThree digit internal classification code (more granular than Key Code) Number\n",
        "1. PD_DESC Description of internal classification corresponding with PD code (more granular than Offense Description) Plain Text\n",
        "1. KY_CD Three digit internal classification code (more general category than PD code) Number\n",
        "1. OFNS_DESC Description of internal classification corresponding with KY code (more general category than PD description) Plain Text\n",
        "1. LAW_CODE\tLaw code charges corresponding to the NYS Penal Law, VTL and other various local laws\n",
        "Plain Text\n",
        "1. LAW_CAT_CD\t\n",
        "Level of offense: felony, misdemeanor, violation\n",
        "Plain Text\n",
        "1. ARREST_BORO\t\n",
        "Borough of arrest. B(Bronx), S(Staten Island), K(Brooklyn), M(Manhattan), Q(Queens)\n",
        "Plain Text\n",
        "1. ARREST_PRECINCT\t\n",
        "Precinct where the arrest occurred\n",
        "Number\n",
        "1. JURISDICTION_CODE\t\n",
        "Jurisdiction responsible for arrest. Jurisdiction codes 0(Patrol), 1(Transit) and 2(Housing) represent NYPD whilst codes 3 and more represent non NYPD jurisdictions\n",
        "Number\n",
        "1. AGE_GROUP\t\n",
        "Perpetrator’s age within a category\n",
        "Plain Text\n",
        "1. PERP_SEX\t\n",
        "Perpetrator’s sex description\n",
        "Plain Text\n",
        "1. PERP_RACE\tPerpetrator’s race description Plain Text\n",
        "1. X_COORD_CD\tMidblock X-coordinate for New York State Plane Coordinate System, Long Island Zone, NAD 83, units feet (FIPS 3104)\n",
        "Number\n",
        "1. Y_COORD_CD\t\n",
        "Midblock Y-coordinate for New York State Plane Coordinate System, Long Island Zone, NAD 83, units feet (FIPS 3104) Number\n",
        "1. Latitude\t Latitude coordinate for Global Coordinate System, WGS 1984, decimal degrees (EPSG 4326) Number\n",
        "1. Longitude\t Longitude coordinate for Global Coordinate System, WGS 1984, decimal degrees (EPSG 4326) Number\n",
        "1. New Georeferenced Column\t Point\n"
      ]
    },
    {
      "cell_type": "markdown",
      "metadata": {
        "id": "zS65Cud-zTnE"
      },
      "source": [
        "# Data Transformation"
      ]
    },
    {
      "cell_type": "markdown",
      "metadata": {
        "id": "LFd65NwR_J9K"
      },
      "source": [
        "## Missing value"
      ]
    },
    {
      "cell_type": "markdown",
      "metadata": {
        "id": "E34lre7d_Sjl"
      },
      "source": [
        "### Checking null value in columns"
      ]
    },
    {
      "cell_type": "code",
      "metadata": {
        "colab": {
          "base_uri": "https://localhost:8080/"
        },
        "id": "4d_EoiEr-v_r",
        "outputId": "a8c08370-821e-494f-de99-ec7941af1a6b"
      },
      "source": [
        "df_clean.isnull().sum()"
      ],
      "execution_count": 13,
      "outputs": [
        {
          "output_type": "execute_result",
          "data": {
            "text/plain": [
              "ARREST_KEY               0\n",
              "ARREST_DATE              0\n",
              "PD_CD                  293\n",
              "PD_DESC               9076\n",
              "KY_CD                 9076\n",
              "OFNS_DESC             9076\n",
              "LAW_CODE               196\n",
              "LAW_CAT_CD           19217\n",
              "ARREST_BORO              8\n",
              "ARREST_PRECINCT          0\n",
              "JURISDICTION_CODE       10\n",
              "AGE_GROUP               17\n",
              "PERP_SEX                 0\n",
              "PERP_RACE                0\n",
              "X_COORD_CD               1\n",
              "Y_COORD_CD               1\n",
              "Latitude                 1\n",
              "Longitude                1\n",
              "dtype: int64"
            ]
          },
          "metadata": {
            "tags": []
          },
          "execution_count": 13
        }
      ]
    },
    {
      "cell_type": "markdown",
      "metadata": {
        "id": "2g0HSg-HI5sE"
      },
      "source": [
        "### Total numbers of rows with nan value"
      ]
    },
    {
      "cell_type": "code",
      "metadata": {
        "colab": {
          "base_uri": "https://localhost:8080/"
        },
        "id": "j4yuLwPVinpL",
        "outputId": "d7c8a08d-f31b-4442-d970-b9ec3c1fbbcf"
      },
      "source": [
        "df_clean.isnull().sum().sum()"
      ],
      "execution_count": 14,
      "outputs": [
        {
          "output_type": "execute_result",
          "data": {
            "text/plain": [
              "46973"
            ]
          },
          "metadata": {
            "tags": []
          },
          "execution_count": 14
        }
      ]
    },
    {
      "cell_type": "markdown",
      "metadata": {
        "id": "Qg6E1GBFH9lb"
      },
      "source": [
        "### Dropping rows which ofns desc values are null"
      ]
    },
    {
      "cell_type": "code",
      "metadata": {
        "id": "PEJiNMWXH8ip"
      },
      "source": [
        "df_clean.dropna(subset=[\"OFNS_DESC\"], inplace=True)"
      ],
      "execution_count": 15,
      "outputs": []
    },
    {
      "cell_type": "markdown",
      "metadata": {
        "id": "kr01NY4_JBKz"
      },
      "source": [
        "### Total number of rows after droipping the coloumns"
      ]
    },
    {
      "cell_type": "code",
      "metadata": {
        "colab": {
          "base_uri": "https://localhost:8080/"
        },
        "id": "i7TG2fWLIjEA",
        "outputId": "cf25fe70-0f90-423a-8f82-2a79d9d141b6"
      },
      "source": [
        "df_clean.isnull().sum()"
      ],
      "execution_count": 16,
      "outputs": [
        {
          "output_type": "execute_result",
          "data": {
            "text/plain": [
              "ARREST_KEY               0\n",
              "ARREST_DATE              0\n",
              "PD_CD                    0\n",
              "PD_DESC                  0\n",
              "KY_CD                    0\n",
              "OFNS_DESC                0\n",
              "LAW_CODE                 0\n",
              "LAW_CAT_CD           19021\n",
              "ARREST_BORO              8\n",
              "ARREST_PRECINCT          0\n",
              "JURISDICTION_CODE       10\n",
              "AGE_GROUP               13\n",
              "PERP_SEX                 0\n",
              "PERP_RACE                0\n",
              "X_COORD_CD               1\n",
              "Y_COORD_CD               1\n",
              "Latitude                 1\n",
              "Longitude                1\n",
              "dtype: int64"
            ]
          },
          "metadata": {
            "tags": []
          },
          "execution_count": 16
        }
      ]
    },
    {
      "cell_type": "code",
      "metadata": {
        "colab": {
          "base_uri": "https://localhost:8080/"
        },
        "id": "ems3rrYtIqr7",
        "outputId": "306a8f2d-a5ee-49f7-ae18-0c61ca80e6d3"
      },
      "source": [
        "df_clean.isnull().sum().sum()"
      ],
      "execution_count": 17,
      "outputs": [
        {
          "output_type": "execute_result",
          "data": {
            "text/plain": [
              "19056"
            ]
          },
          "metadata": {
            "tags": []
          },
          "execution_count": 17
        }
      ]
    },
    {
      "cell_type": "code",
      "metadata": {
        "colab": {
          "base_uri": "https://localhost:8080/",
          "height": 309
        },
        "id": "mVYZD9Dj_Rjn",
        "outputId": "235516c7-3077-442f-be72-9cf9c4916bd7"
      },
      "source": [
        "is_NaN = df_clean.isnull()\n",
        "row_has_NaN = is_NaN.any(axis=1)\n",
        "rows_with_NaN = df_clean[row_has_NaN]\n",
        "rows_with_NaN.head()"
      ],
      "execution_count": 18,
      "outputs": [
        {
          "output_type": "execute_result",
          "data": {
            "text/html": [
              "<div>\n",
              "<style scoped>\n",
              "    .dataframe tbody tr th:only-of-type {\n",
              "        vertical-align: middle;\n",
              "    }\n",
              "\n",
              "    .dataframe tbody tr th {\n",
              "        vertical-align: top;\n",
              "    }\n",
              "\n",
              "    .dataframe thead th {\n",
              "        text-align: right;\n",
              "    }\n",
              "</style>\n",
              "<table border=\"1\" class=\"dataframe\">\n",
              "  <thead>\n",
              "    <tr style=\"text-align: right;\">\n",
              "      <th></th>\n",
              "      <th>ARREST_KEY</th>\n",
              "      <th>ARREST_DATE</th>\n",
              "      <th>PD_CD</th>\n",
              "      <th>PD_DESC</th>\n",
              "      <th>KY_CD</th>\n",
              "      <th>OFNS_DESC</th>\n",
              "      <th>LAW_CODE</th>\n",
              "      <th>LAW_CAT_CD</th>\n",
              "      <th>ARREST_BORO</th>\n",
              "      <th>ARREST_PRECINCT</th>\n",
              "      <th>JURISDICTION_CODE</th>\n",
              "      <th>AGE_GROUP</th>\n",
              "      <th>PERP_SEX</th>\n",
              "      <th>PERP_RACE</th>\n",
              "      <th>X_COORD_CD</th>\n",
              "      <th>Y_COORD_CD</th>\n",
              "      <th>Latitude</th>\n",
              "      <th>Longitude</th>\n",
              "    </tr>\n",
              "  </thead>\n",
              "  <tbody>\n",
              "    <tr>\n",
              "      <th>228</th>\n",
              "      <td>224435564</td>\n",
              "      <td>02/16/2021</td>\n",
              "      <td>49.0</td>\n",
              "      <td>U.S. CODE UNCLASSIFIED</td>\n",
              "      <td>995.0</td>\n",
              "      <td>FOR OTHER AUTHORITIES</td>\n",
              "      <td>FOA9000049</td>\n",
              "      <td>NaN</td>\n",
              "      <td>M</td>\n",
              "      <td>10</td>\n",
              "      <td>0.0</td>\n",
              "      <td>18-24</td>\n",
              "      <td>M</td>\n",
              "      <td>WHITE HISPANIC</td>\n",
              "      <td>982288.0</td>\n",
              "      <td>210220.0</td>\n",
              "      <td>40.743690</td>\n",
              "      <td>-74.007082</td>\n",
              "    </tr>\n",
              "    <tr>\n",
              "      <th>360</th>\n",
              "      <td>225736815</td>\n",
              "      <td>03/17/2021</td>\n",
              "      <td>49.0</td>\n",
              "      <td>U.S. CODE UNCLASSIFIED</td>\n",
              "      <td>995.0</td>\n",
              "      <td>FOR OTHER AUTHORITIES</td>\n",
              "      <td>FOA9000049</td>\n",
              "      <td>NaN</td>\n",
              "      <td>Q</td>\n",
              "      <td>109</td>\n",
              "      <td>0.0</td>\n",
              "      <td>25-44</td>\n",
              "      <td>F</td>\n",
              "      <td>WHITE</td>\n",
              "      <td>1035883.0</td>\n",
              "      <td>222713.0</td>\n",
              "      <td>40.777829</td>\n",
              "      <td>-73.813572</td>\n",
              "    </tr>\n",
              "    <tr>\n",
              "      <th>546</th>\n",
              "      <td>224495764</td>\n",
              "      <td>02/17/2021</td>\n",
              "      <td>49.0</td>\n",
              "      <td>U.S. CODE UNCLASSIFIED</td>\n",
              "      <td>995.0</td>\n",
              "      <td>FOR OTHER AUTHORITIES</td>\n",
              "      <td>FOA9000049</td>\n",
              "      <td>NaN</td>\n",
              "      <td>Q</td>\n",
              "      <td>110</td>\n",
              "      <td>0.0</td>\n",
              "      <td>25-44</td>\n",
              "      <td>F</td>\n",
              "      <td>WHITE</td>\n",
              "      <td>1020237.0</td>\n",
              "      <td>210724.0</td>\n",
              "      <td>40.745000</td>\n",
              "      <td>-73.870128</td>\n",
              "    </tr>\n",
              "    <tr>\n",
              "      <th>574</th>\n",
              "      <td>225640906</td>\n",
              "      <td>03/15/2021</td>\n",
              "      <td>49.0</td>\n",
              "      <td>U.S. CODE UNCLASSIFIED</td>\n",
              "      <td>995.0</td>\n",
              "      <td>FOR OTHER AUTHORITIES</td>\n",
              "      <td>FOA9000049</td>\n",
              "      <td>NaN</td>\n",
              "      <td>K</td>\n",
              "      <td>60</td>\n",
              "      <td>0.0</td>\n",
              "      <td>25-44</td>\n",
              "      <td>M</td>\n",
              "      <td>BLACK</td>\n",
              "      <td>990824.0</td>\n",
              "      <td>149705.0</td>\n",
              "      <td>40.577587</td>\n",
              "      <td>-73.976336</td>\n",
              "    </tr>\n",
              "    <tr>\n",
              "      <th>586</th>\n",
              "      <td>224792369</td>\n",
              "      <td>02/24/2021</td>\n",
              "      <td>49.0</td>\n",
              "      <td>U.S. CODE UNCLASSIFIED</td>\n",
              "      <td>995.0</td>\n",
              "      <td>FOR OTHER AUTHORITIES</td>\n",
              "      <td>FOA9000049</td>\n",
              "      <td>NaN</td>\n",
              "      <td>B</td>\n",
              "      <td>42</td>\n",
              "      <td>0.0</td>\n",
              "      <td>25-44</td>\n",
              "      <td>F</td>\n",
              "      <td>BLACK HISPANIC</td>\n",
              "      <td>1012075.0</td>\n",
              "      <td>242857.0</td>\n",
              "      <td>40.833226</td>\n",
              "      <td>-73.899451</td>\n",
              "    </tr>\n",
              "  </tbody>\n",
              "</table>\n",
              "</div>"
            ],
            "text/plain": [
              "     ARREST_KEY ARREST_DATE  PD_CD  ... Y_COORD_CD   Latitude  Longitude\n",
              "228   224435564  02/16/2021   49.0  ...   210220.0  40.743690 -74.007082\n",
              "360   225736815  03/17/2021   49.0  ...   222713.0  40.777829 -73.813572\n",
              "546   224495764  02/17/2021   49.0  ...   210724.0  40.745000 -73.870128\n",
              "574   225640906  03/15/2021   49.0  ...   149705.0  40.577587 -73.976336\n",
              "586   224792369  02/24/2021   49.0  ...   242857.0  40.833226 -73.899451\n",
              "\n",
              "[5 rows x 18 columns]"
            ]
          },
          "metadata": {
            "tags": []
          },
          "execution_count": 18
        }
      ]
    },
    {
      "cell_type": "markdown",
      "metadata": {
        "id": "OkdTpohbz3oy"
      },
      "source": [
        "## Converting ARREST_DATE Object to date object\n",
        "\n",
        "\n",
        "atetime64[ns] is a general dtype, while <M8[ns] is a specific dtype. General dtypes map to specific dtypes, but may be different from one installation of NumPy to the next.\n",
        "\n"
      ]
    },
    {
      "cell_type": "code",
      "metadata": {
        "id": "0LSTopHN0iMi"
      },
      "source": [
        "df_clean['ARREST_DATE'] = pd.to_datetime(df_clean['ARREST_DATE'])"
      ],
      "execution_count": 19,
      "outputs": []
    },
    {
      "cell_type": "code",
      "metadata": {
        "colab": {
          "base_uri": "https://localhost:8080/"
        },
        "id": "DAaaAw0x039T",
        "outputId": "e05c16ec-e478-49b7-f6d9-7c1767041920"
      },
      "source": [
        "df_clean['ARREST_DATE'].dtype"
      ],
      "execution_count": 20,
      "outputs": [
        {
          "output_type": "execute_result",
          "data": {
            "text/plain": [
              "dtype('<M8[ns]')"
            ]
          },
          "metadata": {
            "tags": []
          },
          "execution_count": 20
        }
      ]
    },
    {
      "cell_type": "markdown",
      "metadata": {
        "id": "GSRYqwrG9vwz"
      },
      "source": [
        "## Correcting MURDER & NON-NEGL. MANSLAUGHTE offense code\n",
        "\n",
        "MURDER & NON-NEGL. MANSLAUGHTE and MURDER & NON-NEGL. MANSLAUGHTER are the same , replacing MURDER & NON-NEGL. MANSLAUGHTER to MURDER & NON-NEGL. MANSLAUGHTE"
      ]
    },
    {
      "cell_type": "code",
      "metadata": {
        "id": "GmicxyjP2Ww5"
      },
      "source": [
        "df_clean['OFNS_DESC'] = df_clean['OFNS_DESC'].str.replace('MURDER & NON-NEGL. MANSLAUGHTER','MURDER & NON-NEGL. MANSLAUGHTE', case = False)"
      ],
      "execution_count": 21,
      "outputs": []
    },
    {
      "cell_type": "markdown",
      "metadata": {
        "id": "nYWMu_IR0DJS"
      },
      "source": [
        "# Data Exploration & Analysis"
      ]
    },
    {
      "cell_type": "markdown",
      "metadata": {
        "id": "mlf3u7NXgvm0"
      },
      "source": [
        "## Find Top 10 counts for below categories\n",
        "\n",
        "1. Offenses\n",
        "1. Sub categories offenses\n",
        "1. Race\n",
        "1. Sex\n",
        "1. Age Grop"
      ]
    },
    {
      "cell_type": "markdown",
      "metadata": {
        "id": "5YvjbPy8J5ls"
      },
      "source": [
        "### Offenses"
      ]
    },
    {
      "cell_type": "code",
      "metadata": {
        "colab": {
          "base_uri": "https://localhost:8080/",
          "height": 359
        },
        "id": "NV7BWaqc5nXo",
        "outputId": "7d75f460-56e1-4361-9d16-573c2b20260e"
      },
      "source": [
        "ofns_desc = df_clean.groupby(['OFNS_DESC'])[['OFNS_DESC']].size().reset_index(name='Counts')\n",
        "ofns_desc = ofns_desc.sort_values(by=['Counts'],ascending=False)\n",
        "ofns_desc.head(10)\n",
        "# size counts NaN values, count does not."
      ],
      "execution_count": 22,
      "outputs": [
        {
          "output_type": "execute_result",
          "data": {
            "text/html": [
              "<div>\n",
              "<style scoped>\n",
              "    .dataframe tbody tr th:only-of-type {\n",
              "        vertical-align: middle;\n",
              "    }\n",
              "\n",
              "    .dataframe tbody tr th {\n",
              "        vertical-align: top;\n",
              "    }\n",
              "\n",
              "    .dataframe thead th {\n",
              "        text-align: right;\n",
              "    }\n",
              "</style>\n",
              "<table border=\"1\" class=\"dataframe\">\n",
              "  <thead>\n",
              "    <tr style=\"text-align: right;\">\n",
              "      <th></th>\n",
              "      <th>OFNS_DESC</th>\n",
              "      <th>Counts</th>\n",
              "    </tr>\n",
              "  </thead>\n",
              "  <tbody>\n",
              "    <tr>\n",
              "      <th>15</th>\n",
              "      <td>DANGEROUS DRUGS</td>\n",
              "      <td>1092377</td>\n",
              "    </tr>\n",
              "    <tr>\n",
              "      <th>7</th>\n",
              "      <td>ASSAULT 3 &amp; RELATED OFFENSES</td>\n",
              "      <td>521911</td>\n",
              "    </tr>\n",
              "    <tr>\n",
              "      <th>65</th>\n",
              "      <td>OTHER OFFENSES RELATED TO THEFT</td>\n",
              "      <td>304191</td>\n",
              "    </tr>\n",
              "    <tr>\n",
              "      <th>66</th>\n",
              "      <td>OTHER STATE LAWS</td>\n",
              "      <td>241534</td>\n",
              "    </tr>\n",
              "    <tr>\n",
              "      <th>71</th>\n",
              "      <td>PETIT LARCENY</td>\n",
              "      <td>224296</td>\n",
              "    </tr>\n",
              "    <tr>\n",
              "      <th>23</th>\n",
              "      <td>FELONY ASSAULT</td>\n",
              "      <td>213736</td>\n",
              "    </tr>\n",
              "    <tr>\n",
              "      <th>85</th>\n",
              "      <td>VEHICLE AND TRAFFIC LAWS</td>\n",
              "      <td>206450</td>\n",
              "    </tr>\n",
              "    <tr>\n",
              "      <th>14</th>\n",
              "      <td>CRIMINAL TRESPASS</td>\n",
              "      <td>201364</td>\n",
              "    </tr>\n",
              "    <tr>\n",
              "      <th>16</th>\n",
              "      <td>DANGEROUS WEAPONS</td>\n",
              "      <td>199607</td>\n",
              "    </tr>\n",
              "    <tr>\n",
              "      <th>49</th>\n",
              "      <td>MISCELLANEOUS PENAL LAW</td>\n",
              "      <td>188498</td>\n",
              "    </tr>\n",
              "  </tbody>\n",
              "</table>\n",
              "</div>"
            ],
            "text/plain": [
              "                          OFNS_DESC   Counts\n",
              "15                  DANGEROUS DRUGS  1092377\n",
              "7      ASSAULT 3 & RELATED OFFENSES   521911\n",
              "65  OTHER OFFENSES RELATED TO THEFT   304191\n",
              "66                 OTHER STATE LAWS   241534\n",
              "71                    PETIT LARCENY   224296\n",
              "23                   FELONY ASSAULT   213736\n",
              "85         VEHICLE AND TRAFFIC LAWS   206450\n",
              "14                CRIMINAL TRESPASS   201364\n",
              "16                DANGEROUS WEAPONS   199607\n",
              "49          MISCELLANEOUS PENAL LAW   188498"
            ]
          },
          "metadata": {
            "tags": []
          },
          "execution_count": 22
        }
      ]
    },
    {
      "cell_type": "code",
      "metadata": {
        "colab": {
          "base_uri": "https://localhost:8080/",
          "height": 475
        },
        "id": "OK0N72faanbx",
        "outputId": "996af7bb-07af-4570-c917-e66f02cbe99c"
      },
      "source": [
        "import matplotlib.pyplot as plt\n",
        "import matplotlib\n",
        "\n",
        "ofns_desc_10 = ofns_desc.head(10)\n",
        "y  = ofns_desc_10['Counts']\n",
        "ax = ofns_desc_10.plot(kind='bar' ,x='OFNS_DESC',y='Counts',rot=0, legend=True)\n",
        "ax.yaxis.set_major_formatter(matplotlib.ticker.FormatStrFormatter(\"%.2f\"))\n",
        "plt.yticks(y)\n",
        "plt.xticks(rotation=90)\n",
        "plt.title('Offence counts')\n",
        "plt.show()"
      ],
      "execution_count": 23,
      "outputs": [
        {
          "output_type": "display_data",
          "data": {
            "image/png": "[encoded data removed]",
            "text/plain": [
              "<Figure size 432x288 with 1 Axes>"
            ]
          },
          "metadata": {
            "tags": [],
            "needs_background": "light"
          }
        }
      ]
    },
    {
      "cell_type": "markdown",
      "metadata": {
        "id": "5A-mEQlKKM0R"
      },
      "source": [
        "### Sub type of offenses\n",
        "\n",
        "Checking PD_DESC Description of internal classification corresponding with PD code (more granular than Offense Description) and their count"
      ]
    },
    {
      "cell_type": "code",
      "metadata": {
        "colab": {
          "base_uri": "https://localhost:8080/",
          "height": 359
        },
        "id": "5Ft8HxDFKN0B",
        "outputId": "e4fe3e94-1760-4c2d-d664-d015333fe1e5"
      },
      "source": [
        "pd_desc = df_clean.groupby(['PD_DESC'])[['PD_DESC']].size().reset_index(name='Counts')\n",
        "pd_desc = pd_desc.sort_values(by=['Counts'],ascending=False)\n",
        "pd_desc.head(10)"
      ],
      "execution_count": 24,
      "outputs": [
        {
          "output_type": "execute_result",
          "data": {
            "text/html": [
              "<div>\n",
              "<style scoped>\n",
              "    .dataframe tbody tr th:only-of-type {\n",
              "        vertical-align: middle;\n",
              "    }\n",
              "\n",
              "    .dataframe tbody tr th {\n",
              "        vertical-align: top;\n",
              "    }\n",
              "\n",
              "    .dataframe thead th {\n",
              "        text-align: right;\n",
              "    }\n",
              "</style>\n",
              "<table border=\"1\" class=\"dataframe\">\n",
              "  <thead>\n",
              "    <tr style=\"text-align: right;\">\n",
              "      <th></th>\n",
              "      <th>PD_DESC</th>\n",
              "      <th>Counts</th>\n",
              "    </tr>\n",
              "  </thead>\n",
              "  <tbody>\n",
              "    <tr>\n",
              "      <th>222</th>\n",
              "      <td>MARIJUANA, POSSESSION 4 &amp; 5</td>\n",
              "      <td>423783</td>\n",
              "    </tr>\n",
              "    <tr>\n",
              "      <th>24</th>\n",
              "      <td>ASSAULT 3</td>\n",
              "      <td>422736</td>\n",
              "    </tr>\n",
              "    <tr>\n",
              "      <th>375</th>\n",
              "      <td>THEFT OF SERVICES, UNCLASSIFIED</td>\n",
              "      <td>303359</td>\n",
              "    </tr>\n",
              "    <tr>\n",
              "      <th>61</th>\n",
              "      <td>CONTROLLED SUBSTANCE, POSSESSION 7</td>\n",
              "      <td>278083</td>\n",
              "    </tr>\n",
              "    <tr>\n",
              "      <th>256</th>\n",
              "      <td>NY STATE LAWS,UNCLASSIFIED VIOLATION</td>\n",
              "      <td>225678</td>\n",
              "    </tr>\n",
              "    <tr>\n",
              "      <th>196</th>\n",
              "      <td>LARCENY,PETIT FROM OPEN AREAS,UNCLASSIFIED</td>\n",
              "      <td>188347</td>\n",
              "    </tr>\n",
              "    <tr>\n",
              "      <th>23</th>\n",
              "      <td>ASSAULT 2,1,UNCLASSIFIED</td>\n",
              "      <td>174981</td>\n",
              "    </tr>\n",
              "    <tr>\n",
              "      <th>382</th>\n",
              "      <td>TRAFFIC,UNCLASSIFIED INFRACTION</td>\n",
              "      <td>165647</td>\n",
              "    </tr>\n",
              "    <tr>\n",
              "      <th>361</th>\n",
              "      <td>STOLEN PROPERTY 3,POSSESSION</td>\n",
              "      <td>151873</td>\n",
              "    </tr>\n",
              "    <tr>\n",
              "      <th>333</th>\n",
              "      <td>ROBBERY,UNCLASSIFIED,OPEN AREAS</td>\n",
              "      <td>143263</td>\n",
              "    </tr>\n",
              "  </tbody>\n",
              "</table>\n",
              "</div>"
            ],
            "text/plain": [
              "                                        PD_DESC  Counts\n",
              "222                 MARIJUANA, POSSESSION 4 & 5  423783\n",
              "24                                    ASSAULT 3  422736\n",
              "375             THEFT OF SERVICES, UNCLASSIFIED  303359\n",
              "61           CONTROLLED SUBSTANCE, POSSESSION 7  278083\n",
              "256        NY STATE LAWS,UNCLASSIFIED VIOLATION  225678\n",
              "196  LARCENY,PETIT FROM OPEN AREAS,UNCLASSIFIED  188347\n",
              "23                     ASSAULT 2,1,UNCLASSIFIED  174981\n",
              "382             TRAFFIC,UNCLASSIFIED INFRACTION  165647\n",
              "361                STOLEN PROPERTY 3,POSSESSION  151873\n",
              "333             ROBBERY,UNCLASSIFIED,OPEN AREAS  143263"
            ]
          },
          "metadata": {
            "tags": []
          },
          "execution_count": 24
        }
      ]
    },
    {
      "cell_type": "code",
      "metadata": {
        "colab": {
          "base_uri": "https://localhost:8080/",
          "height": 537
        },
        "id": "adc5NxM5fExT",
        "outputId": "d9396b0a-8d0f-498a-d296-6946b6caa177"
      },
      "source": [
        "import matplotlib.pyplot as plt\n",
        "import matplotlib\n",
        "\n",
        "pd_desc_10 = pd_desc.head(10)\n",
        "y  = pd_desc_10['Counts']\n",
        "ax = pd_desc_10.plot(kind='bar' ,x='PD_DESC',y='Counts',rot=0, legend=True)\n",
        "ax.yaxis.set_major_formatter(matplotlib.ticker.FormatStrFormatter(\"%.2f\"))\n",
        "plt.yticks(y)\n",
        "plt.xticks(rotation=90)\n",
        "plt.title('Offence Subset counts')\n",
        "plt.show()"
      ],
      "execution_count": 25,
      "outputs": [
        {
          "output_type": "display_data",
          "data": {
            "image/png": "[encoded data removed]",
            "text/plain": [
              "<Figure size 432x288 with 1 Axes>"
            ]
          },
          "metadata": {
            "tags": [],
            "needs_background": "light"
          }
        }
      ]
    },
    {
      "cell_type": "markdown",
      "metadata": {
        "id": "_-iPpTJRhaqb"
      },
      "source": [
        "### Race"
      ]
    },
    {
      "cell_type": "code",
      "metadata": {
        "colab": {
          "base_uri": "https://localhost:8080/",
          "height": 297
        },
        "id": "u2_ExQPKexcT",
        "outputId": "537401b5-749f-40f2-85f1-c02619938d2c"
      },
      "source": [
        "race = df_clean.groupby(['PERP_RACE'])[['PERP_RACE']].size().reset_index(name='Counts')\n",
        "race = race.sort_values(by=['Counts'],ascending=False)\n",
        "race.head(10)"
      ],
      "execution_count": 26,
      "outputs": [
        {
          "output_type": "execute_result",
          "data": {
            "text/html": [
              "<div>\n",
              "<style scoped>\n",
              "    .dataframe tbody tr th:only-of-type {\n",
              "        vertical-align: middle;\n",
              "    }\n",
              "\n",
              "    .dataframe tbody tr th {\n",
              "        vertical-align: top;\n",
              "    }\n",
              "\n",
              "    .dataframe thead th {\n",
              "        text-align: right;\n",
              "    }\n",
              "</style>\n",
              "<table border=\"1\" class=\"dataframe\">\n",
              "  <thead>\n",
              "    <tr style=\"text-align: right;\">\n",
              "      <th></th>\n",
              "      <th>PERP_RACE</th>\n",
              "      <th>Counts</th>\n",
              "    </tr>\n",
              "  </thead>\n",
              "  <tbody>\n",
              "    <tr>\n",
              "      <th>2</th>\n",
              "      <td>BLACK</td>\n",
              "      <td>2516876</td>\n",
              "    </tr>\n",
              "    <tr>\n",
              "      <th>7</th>\n",
              "      <td>WHITE HISPANIC</td>\n",
              "      <td>1346004</td>\n",
              "    </tr>\n",
              "    <tr>\n",
              "      <th>6</th>\n",
              "      <td>WHITE</td>\n",
              "      <td>624207</td>\n",
              "    </tr>\n",
              "    <tr>\n",
              "      <th>3</th>\n",
              "      <td>BLACK HISPANIC</td>\n",
              "      <td>417950</td>\n",
              "    </tr>\n",
              "    <tr>\n",
              "      <th>1</th>\n",
              "      <td>ASIAN / PACIFIC ISLANDER</td>\n",
              "      <td>214435</td>\n",
              "    </tr>\n",
              "    <tr>\n",
              "      <th>5</th>\n",
              "      <td>UNKNOWN</td>\n",
              "      <td>51082</td>\n",
              "    </tr>\n",
              "    <tr>\n",
              "      <th>0</th>\n",
              "      <td>AMERICAN INDIAN/ALASKAN NATIVE</td>\n",
              "      <td>11520</td>\n",
              "    </tr>\n",
              "    <tr>\n",
              "      <th>4</th>\n",
              "      <td>OTHER</td>\n",
              "      <td>1363</td>\n",
              "    </tr>\n",
              "  </tbody>\n",
              "</table>\n",
              "</div>"
            ],
            "text/plain": [
              "                        PERP_RACE   Counts\n",
              "2                           BLACK  2516876\n",
              "7                  WHITE HISPANIC  1346004\n",
              "6                           WHITE   624207\n",
              "3                  BLACK HISPANIC   417950\n",
              "1        ASIAN / PACIFIC ISLANDER   214435\n",
              "5                         UNKNOWN    51082\n",
              "0  AMERICAN INDIAN/ALASKAN NATIVE    11520\n",
              "4                           OTHER     1363"
            ]
          },
          "metadata": {
            "tags": []
          },
          "execution_count": 26
        }
      ]
    },
    {
      "cell_type": "code",
      "metadata": {
        "colab": {
          "base_uri": "https://localhost:8080/",
          "height": 466
        },
        "id": "dkyvjN1vfSEJ",
        "outputId": "c75b4d9b-e8d4-4bac-e184-1129686ed8a5"
      },
      "source": [
        "import matplotlib.pyplot as plt\n",
        "import matplotlib\n",
        "\n",
        "race_10 = race.head(10)\n",
        "y  = race_10['Counts']\n",
        "ax = race_10.plot(kind='bar' ,x='PERP_RACE',y='Counts',rot=0, legend=True)\n",
        "ax.yaxis.set_major_formatter(matplotlib.ticker.FormatStrFormatter(\"%.2f\"))\n",
        "plt.yticks(y)\n",
        "plt.xticks(rotation=90)\n",
        "plt.title('Race counts')\n",
        "plt.show()"
      ],
      "execution_count": 27,
      "outputs": [
        {
          "output_type": "display_data",
          "data": {
            "image/png": "[encoded data removed]",
            "text/plain": [
              "<Figure size 432x288 with 1 Axes>"
            ]
          },
          "metadata": {
            "tags": [],
            "needs_background": "light"
          }
        }
      ]
    },
    {
      "cell_type": "markdown",
      "metadata": {
        "id": "RzpwPrGAhdIO"
      },
      "source": [
        "### Sex"
      ]
    },
    {
      "cell_type": "code",
      "metadata": {
        "colab": {
          "base_uri": "https://localhost:8080/",
          "height": 111
        },
        "id": "B4TdvD8ffgq7",
        "outputId": "9715491c-2427-470e-8eda-3c10e29added"
      },
      "source": [
        "sex = df_clean.groupby(['PERP_SEX'])[['PERP_SEX']].size().reset_index(name='Counts')\n",
        "sex = sex.sort_values(by=['Counts'],ascending=False)\n",
        "sex.head(10)"
      ],
      "execution_count": 28,
      "outputs": [
        {
          "output_type": "execute_result",
          "data": {
            "text/html": [
              "<div>\n",
              "<style scoped>\n",
              "    .dataframe tbody tr th:only-of-type {\n",
              "        vertical-align: middle;\n",
              "    }\n",
              "\n",
              "    .dataframe tbody tr th {\n",
              "        vertical-align: top;\n",
              "    }\n",
              "\n",
              "    .dataframe thead th {\n",
              "        text-align: right;\n",
              "    }\n",
              "</style>\n",
              "<table border=\"1\" class=\"dataframe\">\n",
              "  <thead>\n",
              "    <tr style=\"text-align: right;\">\n",
              "      <th></th>\n",
              "      <th>PERP_SEX</th>\n",
              "      <th>Counts</th>\n",
              "    </tr>\n",
              "  </thead>\n",
              "  <tbody>\n",
              "    <tr>\n",
              "      <th>1</th>\n",
              "      <td>M</td>\n",
              "      <td>4312895</td>\n",
              "    </tr>\n",
              "    <tr>\n",
              "      <th>0</th>\n",
              "      <td>F</td>\n",
              "      <td>870542</td>\n",
              "    </tr>\n",
              "  </tbody>\n",
              "</table>\n",
              "</div>"
            ],
            "text/plain": [
              "  PERP_SEX   Counts\n",
              "1        M  4312895\n",
              "0        F   870542"
            ]
          },
          "metadata": {
            "tags": []
          },
          "execution_count": 28
        }
      ]
    },
    {
      "cell_type": "code",
      "metadata": {
        "colab": {
          "base_uri": "https://localhost:8080/",
          "height": 296
        },
        "id": "kP0WeGjGfi0U",
        "outputId": "02b68887-b167-49bc-f08e-19d43475e0a3"
      },
      "source": [
        "import matplotlib.pyplot as plt\n",
        "import matplotlib\n",
        "\n",
        "y  = sex['Counts']\n",
        "ax = sex.plot(kind='bar' ,x='PERP_SEX',y='Counts',rot=0, legend=True)\n",
        "ax.yaxis.set_major_formatter(matplotlib.ticker.FormatStrFormatter(\"%.2f\"))\n",
        "plt.yticks(y)\n",
        "plt.title('Sex counts')\n",
        "plt.show()"
      ],
      "execution_count": 29,
      "outputs": [
        {
          "output_type": "display_data",
          "data": {
            "image/png": "[encoded data removed]",
            "text/plain": [
              "<Figure size 432x288 with 1 Axes>"
            ]
          },
          "metadata": {
            "tags": [],
            "needs_background": "light"
          }
        }
      ]
    },
    {
      "cell_type": "markdown",
      "metadata": {
        "id": "9fLrfSI1hghu"
      },
      "source": [
        "### Age Group"
      ]
    },
    {
      "cell_type": "code",
      "metadata": {
        "colab": {
          "base_uri": "https://localhost:8080/",
          "height": 359
        },
        "id": "ny7Sc-HGgF-N",
        "outputId": "1335ee67-874c-4fa2-b86f-eb6670397ab0"
      },
      "source": [
        "age_group = df_clean.groupby(['AGE_GROUP'])[['AGE_GROUP']].size().reset_index(name='Counts')\n",
        "age_group = age_group.sort_values(by=['Counts'],ascending=False)\n",
        "age_group.head(10)"
      ],
      "execution_count": 30,
      "outputs": [
        {
          "output_type": "execute_result",
          "data": {
            "text/html": [
              "<div>\n",
              "<style scoped>\n",
              "    .dataframe tbody tr th:only-of-type {\n",
              "        vertical-align: middle;\n",
              "    }\n",
              "\n",
              "    .dataframe tbody tr th {\n",
              "        vertical-align: top;\n",
              "    }\n",
              "\n",
              "    .dataframe thead th {\n",
              "        text-align: right;\n",
              "    }\n",
              "</style>\n",
              "<table border=\"1\" class=\"dataframe\">\n",
              "  <thead>\n",
              "    <tr style=\"text-align: right;\">\n",
              "      <th></th>\n",
              "      <th>AGE_GROUP</th>\n",
              "      <th>Counts</th>\n",
              "    </tr>\n",
              "  </thead>\n",
              "  <tbody>\n",
              "    <tr>\n",
              "      <th>22</th>\n",
              "      <td>25-44</td>\n",
              "      <td>2411651</td>\n",
              "    </tr>\n",
              "    <tr>\n",
              "      <th>4</th>\n",
              "      <td>18-24</td>\n",
              "      <td>1352464</td>\n",
              "    </tr>\n",
              "    <tr>\n",
              "      <th>34</th>\n",
              "      <td>45-64</td>\n",
              "      <td>955860</td>\n",
              "    </tr>\n",
              "    <tr>\n",
              "      <th>89</th>\n",
              "      <td>&lt;18</td>\n",
              "      <td>419040</td>\n",
              "    </tr>\n",
              "    <tr>\n",
              "      <th>36</th>\n",
              "      <td>65+</td>\n",
              "      <td>44231</td>\n",
              "    </tr>\n",
              "    <tr>\n",
              "      <th>45</th>\n",
              "      <td>895</td>\n",
              "      <td>13</td>\n",
              "    </tr>\n",
              "    <tr>\n",
              "      <th>77</th>\n",
              "      <td>945</td>\n",
              "      <td>7</td>\n",
              "    </tr>\n",
              "    <tr>\n",
              "      <th>67</th>\n",
              "      <td>935</td>\n",
              "      <td>7</td>\n",
              "    </tr>\n",
              "    <tr>\n",
              "      <th>44</th>\n",
              "      <td>894</td>\n",
              "      <td>7</td>\n",
              "    </tr>\n",
              "    <tr>\n",
              "      <th>69</th>\n",
              "      <td>937</td>\n",
              "      <td>5</td>\n",
              "    </tr>\n",
              "  </tbody>\n",
              "</table>\n",
              "</div>"
            ],
            "text/plain": [
              "   AGE_GROUP   Counts\n",
              "22     25-44  2411651\n",
              "4      18-24  1352464\n",
              "34     45-64   955860\n",
              "89       <18   419040\n",
              "36       65+    44231\n",
              "45       895       13\n",
              "77       945        7\n",
              "67       935        7\n",
              "44       894        7\n",
              "69       937        5"
            ]
          },
          "metadata": {
            "tags": []
          },
          "execution_count": 30
        }
      ]
    },
    {
      "cell_type": "code",
      "metadata": {
        "colab": {
          "base_uri": "https://localhost:8080/",
          "height": 296
        },
        "id": "ZST8lKi5gYEq",
        "outputId": "c1aa0292-9a13-4b9b-ccf1-0483f662a9c3"
      },
      "source": [
        "import matplotlib.pyplot as plt\n",
        "import matplotlib\n",
        "\n",
        "age_group_10 = age_group.head(10)\n",
        "y  = age_group_10['Counts']\n",
        "ax = age_group_10.plot(kind='bar' ,x='AGE_GROUP',y='Counts',rot=0, legend=True)\n",
        "ax.yaxis.set_major_formatter(matplotlib.ticker.FormatStrFormatter(\"%.2f\"))\n",
        "plt.yticks(y)\n",
        "plt.title('Age Group')\n",
        "plt.show()"
      ],
      "execution_count": 31,
      "outputs": [
        {
          "output_type": "display_data",
          "data": {
            "image/png": "[encoded data removed]",
            "text/plain": [
              "<Figure size 432x288 with 1 Axes>"
            ]
          },
          "metadata": {
            "tags": [],
            "needs_background": "light"
          }
        }
      ]
    },
    {
      "cell_type": "markdown",
      "metadata": {
        "id": "KLrQaXXInqse"
      },
      "source": [
        "## Relationship information"
      ]
    },
    {
      "cell_type": "markdown",
      "metadata": {
        "id": "TsS9fRLLoIWk"
      },
      "source": [
        "### Murder counts per year"
      ]
    },
    {
      "cell_type": "code",
      "metadata": {
        "colab": {
          "base_uri": "https://localhost:8080/"
        },
        "id": "cIikPlbUq_7z",
        "outputId": "ca6f5f98-05f7-4413-803c-2c3d22958ebf"
      },
      "source": [
        "df_clean['ARREST_DATE'].dtypes"
      ],
      "execution_count": 32,
      "outputs": [
        {
          "output_type": "execute_result",
          "data": {
            "text/plain": [
              "dtype('<M8[ns]')"
            ]
          },
          "metadata": {
            "tags": []
          },
          "execution_count": 32
        }
      ]
    },
    {
      "cell_type": "code",
      "metadata": {
        "colab": {
          "base_uri": "https://localhost:8080/",
          "height": 545
        },
        "id": "suISmwLXoURA",
        "outputId": "a1265282-7f1d-4d60-bd60-08d8ce8bd30c"
      },
      "source": [
        "murder_ofns_desc = df_clean.groupby([df_clean.ARREST_DATE.dt.year,'OFNS_DESC'])[['OFNS_DESC']].size().reset_index(name='Counts')\n",
        "murder_ofns_desc = murder_ofns_desc.sort_values(by=['ARREST_DATE'],ascending=False)\n",
        "murder_ofns_desc = murder_ofns_desc[murder_ofns_desc['OFNS_DESC'].str.contains(\"MURDER\")]\n",
        "murder_ofns_desc"
      ],
      "execution_count": 33,
      "outputs": [
        {
          "output_type": "execute_result",
          "data": {
            "text/html": [
              "<div>\n",
              "<style scoped>\n",
              "    .dataframe tbody tr th:only-of-type {\n",
              "        vertical-align: middle;\n",
              "    }\n",
              "\n",
              "    .dataframe tbody tr th {\n",
              "        vertical-align: top;\n",
              "    }\n",
              "\n",
              "    .dataframe thead th {\n",
              "        text-align: right;\n",
              "    }\n",
              "</style>\n",
              "<table border=\"1\" class=\"dataframe\">\n",
              "  <thead>\n",
              "    <tr style=\"text-align: right;\">\n",
              "      <th></th>\n",
              "      <th>ARREST_DATE</th>\n",
              "      <th>OFNS_DESC</th>\n",
              "      <th>Counts</th>\n",
              "    </tr>\n",
              "  </thead>\n",
              "  <tbody>\n",
              "    <tr>\n",
              "      <th>1002</th>\n",
              "      <td>2021</td>\n",
              "      <td>MURDER &amp; NON-NEGL. MANSLAUGHTE</td>\n",
              "      <td>279</td>\n",
              "    </tr>\n",
              "    <tr>\n",
              "      <th>944</th>\n",
              "      <td>2020</td>\n",
              "      <td>MURDER &amp; NON-NEGL. MANSLAUGHTE</td>\n",
              "      <td>1190</td>\n",
              "    </tr>\n",
              "    <tr>\n",
              "      <th>880</th>\n",
              "      <td>2019</td>\n",
              "      <td>MURDER &amp; NON-NEGL. MANSLAUGHTE</td>\n",
              "      <td>1013</td>\n",
              "    </tr>\n",
              "    <tr>\n",
              "      <th>815</th>\n",
              "      <td>2018</td>\n",
              "      <td>MURDER &amp; NON-NEGL. MANSLAUGHTE</td>\n",
              "      <td>875</td>\n",
              "    </tr>\n",
              "    <tr>\n",
              "      <th>747</th>\n",
              "      <td>2017</td>\n",
              "      <td>MURDER &amp; NON-NEGL. MANSLAUGHTE</td>\n",
              "      <td>948</td>\n",
              "    </tr>\n",
              "    <tr>\n",
              "      <th>680</th>\n",
              "      <td>2016</td>\n",
              "      <td>MURDER &amp; NON-NEGL. MANSLAUGHTE</td>\n",
              "      <td>957</td>\n",
              "    </tr>\n",
              "    <tr>\n",
              "      <th>615</th>\n",
              "      <td>2015</td>\n",
              "      <td>MURDER &amp; NON-NEGL. MANSLAUGHTE</td>\n",
              "      <td>858</td>\n",
              "    </tr>\n",
              "    <tr>\n",
              "      <th>547</th>\n",
              "      <td>2014</td>\n",
              "      <td>MURDER &amp; NON-NEGL. MANSLAUGHTE</td>\n",
              "      <td>1062</td>\n",
              "    </tr>\n",
              "    <tr>\n",
              "      <th>480</th>\n",
              "      <td>2013</td>\n",
              "      <td>MURDER &amp; NON-NEGL. MANSLAUGHTE</td>\n",
              "      <td>748</td>\n",
              "    </tr>\n",
              "    <tr>\n",
              "      <th>414</th>\n",
              "      <td>2012</td>\n",
              "      <td>MURDER &amp; NON-NEGL. MANSLAUGHTE</td>\n",
              "      <td>962</td>\n",
              "    </tr>\n",
              "    <tr>\n",
              "      <th>349</th>\n",
              "      <td>2011</td>\n",
              "      <td>MURDER &amp; NON-NEGL. MANSLAUGHTE</td>\n",
              "      <td>905</td>\n",
              "    </tr>\n",
              "    <tr>\n",
              "      <th>285</th>\n",
              "      <td>2010</td>\n",
              "      <td>MURDER &amp; NON-NEGL. MANSLAUGHTE</td>\n",
              "      <td>861</td>\n",
              "    </tr>\n",
              "    <tr>\n",
              "      <th>223</th>\n",
              "      <td>2009</td>\n",
              "      <td>MURDER &amp; NON-NEGL. MANSLAUGHTE</td>\n",
              "      <td>883</td>\n",
              "    </tr>\n",
              "    <tr>\n",
              "      <th>162</th>\n",
              "      <td>2008</td>\n",
              "      <td>MURDER &amp; NON-NEGL. MANSLAUGHTE</td>\n",
              "      <td>1156</td>\n",
              "    </tr>\n",
              "    <tr>\n",
              "      <th>100</th>\n",
              "      <td>2007</td>\n",
              "      <td>MURDER &amp; NON-NEGL. MANSLAUGHTE</td>\n",
              "      <td>1006</td>\n",
              "    </tr>\n",
              "    <tr>\n",
              "      <th>37</th>\n",
              "      <td>2006</td>\n",
              "      <td>MURDER &amp; NON-NEGL. MANSLAUGHTE</td>\n",
              "      <td>1014</td>\n",
              "    </tr>\n",
              "  </tbody>\n",
              "</table>\n",
              "</div>"
            ],
            "text/plain": [
              "      ARREST_DATE                       OFNS_DESC  Counts\n",
              "1002         2021  MURDER & NON-NEGL. MANSLAUGHTE     279\n",
              "944          2020  MURDER & NON-NEGL. MANSLAUGHTE    1190\n",
              "880          2019  MURDER & NON-NEGL. MANSLAUGHTE    1013\n",
              "815          2018  MURDER & NON-NEGL. MANSLAUGHTE     875\n",
              "747          2017  MURDER & NON-NEGL. MANSLAUGHTE     948\n",
              "680          2016  MURDER & NON-NEGL. MANSLAUGHTE     957\n",
              "615          2015  MURDER & NON-NEGL. MANSLAUGHTE     858\n",
              "547          2014  MURDER & NON-NEGL. MANSLAUGHTE    1062\n",
              "480          2013  MURDER & NON-NEGL. MANSLAUGHTE     748\n",
              "414          2012  MURDER & NON-NEGL. MANSLAUGHTE     962\n",
              "349          2011  MURDER & NON-NEGL. MANSLAUGHTE     905\n",
              "285          2010  MURDER & NON-NEGL. MANSLAUGHTE     861\n",
              "223          2009  MURDER & NON-NEGL. MANSLAUGHTE     883\n",
              "162          2008  MURDER & NON-NEGL. MANSLAUGHTE    1156\n",
              "100          2007  MURDER & NON-NEGL. MANSLAUGHTE    1006\n",
              "37           2006  MURDER & NON-NEGL. MANSLAUGHTE    1014"
            ]
          },
          "metadata": {
            "tags": []
          },
          "execution_count": 33
        }
      ]
    },
    {
      "cell_type": "code",
      "metadata": {
        "colab": {
          "base_uri": "https://localhost:8080/",
          "height": 280
        },
        "id": "gGC_OUfg_1mv",
        "outputId": "94c5f3ea-c434-4d6d-b877-fc406443b913"
      },
      "source": [
        "murder_ofns_desc.plot(x='ARREST_DATE', y='Counts', kind='line')\n",
        "plt.show()"
      ],
      "execution_count": 34,
      "outputs": [
        {
          "output_type": "display_data",
          "data": {
            "image/png": "[encoded data removed]",
            "text/plain": [
              "<Figure size 432x288 with 1 Axes>"
            ]
          },
          "metadata": {
            "tags": [],
            "needs_background": "light"
          }
        }
      ]
    },
    {
      "cell_type": "code",
      "metadata": {
        "colab": {
          "base_uri": "https://localhost:8080/",
          "height": 280
        },
        "id": "nKZ1q2zPRpux",
        "outputId": "4ad534f4-a29f-4246-860c-dc316508fc37"
      },
      "source": [
        "# ax = murder_ofns_desc.plot.bar(rot=0)\n",
        "boro_desc = df_clean.groupby([df_clean.ARREST_DATE.dt.year,'ARREST_BORO'])[['ARREST_BORO']].size().reset_index(name='Counts')\n",
        "boro_desc = boro_desc.sort_values(by=['ARREST_DATE'],ascending=False)\n",
        "# murder_ofns_desc = murder_ofns_desc[murder_ofns_desc['OFNS_DESC'].str.contains(\"MURDER\")]\n",
        "boro_desc\n",
        "ax = boro_desc.plot.bar(x= 'ARREST_DATE',rot=0)\n"
      ],
      "execution_count": 35,
      "outputs": [
        {
          "output_type": "display_data",
          "data": {
            "image/png": "[encoded data removed]",
            "text/plain": [
              "<Figure size 432x288 with 1 Axes>"
            ]
          },
          "metadata": {
            "tags": [],
            "needs_background": "light"
          }
        }
      ]
    },
    {
      "cell_type": "markdown",
      "metadata": {
        "id": "R6H0QZwBiQ3y"
      },
      "source": [
        "## Extra"
      ]
    },
    {
      "cell_type": "code",
      "metadata": {
        "colab": {
          "base_uri": "https://localhost:8080/",
          "height": 297
        },
        "id": "cy2bQVR9RHLp",
        "outputId": "a52fc972-9162-47a0-8195-1ddd9e8f8619"
      },
      "source": [
        "import matplotlib.pyplot as plt\n",
        "import numpy as np\n",
        "\n",
        "\n",
        "labels = ['G1', 'G2', 'G3', 'G4', 'G5']\n",
        "men_means = [20, 34, 30, 35, 27]\n",
        "women_means = [25, 32, 34, 20, 25]\n",
        "\n",
        "x = np.arange(len(labels))  # the label locations\n",
        "width = 0.35  # the width of the bars\n",
        "\n",
        "fig, ax = plt.subplots()\n",
        "rects1 = ax.bar(x - width/2, men_means, width, label='Men')\n",
        "rects2 = ax.bar(x + width/2, women_means, width, label='Women')\n",
        "\n",
        "# Add some text for labels, title and custom x-axis tick labels, etc.\n",
        "ax.set_ylabel('Scores')\n",
        "ax.set_title('Scores by group and gender')\n",
        "ax.set_xticks(x)\n",
        "ax.set_xticklabels(labels)\n",
        "ax.legend()\n",
        "\n",
        "# ax.bar_label(rects1, padding=3)\n",
        "# ax.bar_label(rects2, padding=3)\n",
        "\n",
        "fig.tight_layout()\n",
        "\n",
        "plt.show()"
      ],
      "execution_count": 36,
      "outputs": [
        {
          "output_type": "display_data",
          "data": {
            "image/png": "[encoded data removed]",
            "text/plain": [
              "<Figure size 432x288 with 1 Axes>"
            ]
          },
          "metadata": {
            "tags": [],
            "needs_background": "light"
          }
        }
      ]
    },
    {
      "cell_type": "code",
      "metadata": {
        "id": "Ut75veAj-ykL"
      },
      "source": [
        "# murder_ofns_desc1['OFNS_DESC'].str.replace('MURDER & NON-NEGL. MANSLAUGHTE','MURDER & NON-NEGL. MANSLAUGHTER')\n",
        "# murder_ofns_desc1['OFNS_DESC'] = \n",
        "# df_clean['OFNS_DESC'].str.replace('MURDER & NON-NEGL. MANSLAUGHTER','MURDER & NON-NEGL. MANSLAUGHTE', case = False)\n",
        "# murder_ofns_desc2 = murder_ofns_desc2.groupby(['OFNS_DESC'])[['OFNS_DESC']].size().reset_index(name='Counts')\n",
        "# murder_ofns_desc2\n",
        "# murder_ofns_desc2[murder_ofns_desc2['OFNS_DESC'].str.contains(\"MURDER\")]\n",
        "# murder_ofns_desc1[murder_ofns_desc1['OFNS_DESC'] == \"MURDER & NON-NEGL. MANSLAUGHTE\"]\n",
        "# murder_ofns_desc1\n",
        "# df_clean.head(2)\n",
        "# df_clean[df_clean['OFNS_DESC'].str.contains(\"MURDER\")].head(2)"
      ],
      "execution_count": 37,
      "outputs": []
    },
    {
      "cell_type": "code",
      "metadata": {
        "id": "QLhpLq78krbw",
        "colab": {
          "base_uri": "https://localhost:8080/",
          "height": 677
        },
        "outputId": "96dab357-f8f5-4042-bee8-4745b8e9aad2"
      },
      "source": [
        "# df_clean['PD_CD'!= 49.0]\n",
        "df_clean.loc[df_clean['PD_CD'] != 49.0]"
      ],
      "execution_count": 38,
      "outputs": [
        {
          "output_type": "execute_result",
          "data": {
            "text/html": [
              "<div>\n",
              "<style scoped>\n",
              "    .dataframe tbody tr th:only-of-type {\n",
              "        vertical-align: middle;\n",
              "    }\n",
              "\n",
              "    .dataframe tbody tr th {\n",
              "        vertical-align: top;\n",
              "    }\n",
              "\n",
              "    .dataframe thead th {\n",
              "        text-align: right;\n",
              "    }\n",
              "</style>\n",
              "<table border=\"1\" class=\"dataframe\">\n",
              "  <thead>\n",
              "    <tr style=\"text-align: right;\">\n",
              "      <th></th>\n",
              "      <th>ARREST_KEY</th>\n",
              "      <th>ARREST_DATE</th>\n",
              "      <th>PD_CD</th>\n",
              "      <th>PD_DESC</th>\n",
              "      <th>KY_CD</th>\n",
              "      <th>OFNS_DESC</th>\n",
              "      <th>LAW_CODE</th>\n",
              "      <th>LAW_CAT_CD</th>\n",
              "      <th>ARREST_BORO</th>\n",
              "      <th>ARREST_PRECINCT</th>\n",
              "      <th>JURISDICTION_CODE</th>\n",
              "      <th>AGE_GROUP</th>\n",
              "      <th>PERP_SEX</th>\n",
              "      <th>PERP_RACE</th>\n",
              "      <th>X_COORD_CD</th>\n",
              "      <th>Y_COORD_CD</th>\n",
              "      <th>Latitude</th>\n",
              "      <th>Longitude</th>\n",
              "    </tr>\n",
              "  </thead>\n",
              "  <tbody>\n",
              "    <tr>\n",
              "      <th>0</th>\n",
              "      <td>226147627</td>\n",
              "      <td>2021-03-26</td>\n",
              "      <td>177.0</td>\n",
              "      <td>SEXUAL ABUSE</td>\n",
              "      <td>116.0</td>\n",
              "      <td>SEX CRIMES</td>\n",
              "      <td>PL 1306501</td>\n",
              "      <td>F</td>\n",
              "      <td>M</td>\n",
              "      <td>5</td>\n",
              "      <td>0.0</td>\n",
              "      <td>25-44</td>\n",
              "      <td>M</td>\n",
              "      <td>WHITE</td>\n",
              "      <td>984946.0</td>\n",
              "      <td>200203.0</td>\n",
              "      <td>40.716196</td>\n",
              "      <td>-73.997491</td>\n",
              "    </tr>\n",
              "    <tr>\n",
              "      <th>1</th>\n",
              "      <td>226113029</td>\n",
              "      <td>2021-03-25</td>\n",
              "      <td>101.0</td>\n",
              "      <td>ASSAULT 3</td>\n",
              "      <td>344.0</td>\n",
              "      <td>ASSAULT 3 &amp; RELATED OFFENSES</td>\n",
              "      <td>PL 1200001</td>\n",
              "      <td>M</td>\n",
              "      <td>K</td>\n",
              "      <td>84</td>\n",
              "      <td>0.0</td>\n",
              "      <td>18-24</td>\n",
              "      <td>M</td>\n",
              "      <td>BLACK</td>\n",
              "      <td>987792.0</td>\n",
              "      <td>190460.0</td>\n",
              "      <td>40.689453</td>\n",
              "      <td>-73.987229</td>\n",
              "    </tr>\n",
              "    <tr>\n",
              "      <th>2</th>\n",
              "      <td>225789182</td>\n",
              "      <td>2021-03-18</td>\n",
              "      <td>101.0</td>\n",
              "      <td>ASSAULT 3</td>\n",
              "      <td>344.0</td>\n",
              "      <td>ASSAULT 3 &amp; RELATED OFFENSES</td>\n",
              "      <td>PL 1200001</td>\n",
              "      <td>M</td>\n",
              "      <td>B</td>\n",
              "      <td>48</td>\n",
              "      <td>0.0</td>\n",
              "      <td>18-24</td>\n",
              "      <td>M</td>\n",
              "      <td>BLACK</td>\n",
              "      <td>1011811.0</td>\n",
              "      <td>246833.0</td>\n",
              "      <td>40.844140</td>\n",
              "      <td>-73.900389</td>\n",
              "    </tr>\n",
              "    <tr>\n",
              "      <th>3</th>\n",
              "      <td>225751057</td>\n",
              "      <td>2021-03-17</td>\n",
              "      <td>105.0</td>\n",
              "      <td>STRANGULATION 1ST</td>\n",
              "      <td>106.0</td>\n",
              "      <td>FELONY ASSAULT</td>\n",
              "      <td>PL 1211200</td>\n",
              "      <td>F</td>\n",
              "      <td>K</td>\n",
              "      <td>79</td>\n",
              "      <td>0.0</td>\n",
              "      <td>25-44</td>\n",
              "      <td>M</td>\n",
              "      <td>WHITE</td>\n",
              "      <td>1000272.0</td>\n",
              "      <td>187022.0</td>\n",
              "      <td>40.680003</td>\n",
              "      <td>-73.942236</td>\n",
              "    </tr>\n",
              "    <tr>\n",
              "      <th>4</th>\n",
              "      <td>225591004</td>\n",
              "      <td>2021-03-14</td>\n",
              "      <td>105.0</td>\n",
              "      <td>STRANGULATION 1ST</td>\n",
              "      <td>106.0</td>\n",
              "      <td>FELONY ASSAULT</td>\n",
              "      <td>PL 1211200</td>\n",
              "      <td>F</td>\n",
              "      <td>B</td>\n",
              "      <td>49</td>\n",
              "      <td>0.0</td>\n",
              "      <td>25-44</td>\n",
              "      <td>M</td>\n",
              "      <td>BLACK</td>\n",
              "      <td>1021639.0</td>\n",
              "      <td>250223.0</td>\n",
              "      <td>40.853408</td>\n",
              "      <td>-73.864849</td>\n",
              "    </tr>\n",
              "    <tr>\n",
              "      <th>...</th>\n",
              "      <td>...</td>\n",
              "      <td>...</td>\n",
              "      <td>...</td>\n",
              "      <td>...</td>\n",
              "      <td>...</td>\n",
              "      <td>...</td>\n",
              "      <td>...</td>\n",
              "      <td>...</td>\n",
              "      <td>...</td>\n",
              "      <td>...</td>\n",
              "      <td>...</td>\n",
              "      <td>...</td>\n",
              "      <td>...</td>\n",
              "      <td>...</td>\n",
              "      <td>...</td>\n",
              "      <td>...</td>\n",
              "      <td>...</td>\n",
              "      <td>...</td>\n",
              "    </tr>\n",
              "    <tr>\n",
              "      <th>5153364</th>\n",
              "      <td>207601040</td>\n",
              "      <td>2020-01-08</td>\n",
              "      <td>273.0</td>\n",
              "      <td>TAMPERING 1,CRIMINAL</td>\n",
              "      <td>121.0</td>\n",
              "      <td>CRIMINAL MISCHIEF &amp; RELATED OF</td>\n",
              "      <td>PL 1452000</td>\n",
              "      <td>F</td>\n",
              "      <td>M</td>\n",
              "      <td>1</td>\n",
              "      <td>1.0</td>\n",
              "      <td>25-44</td>\n",
              "      <td>M</td>\n",
              "      <td>BLACK HISPANIC</td>\n",
              "      <td>980772.0</td>\n",
              "      <td>194845.0</td>\n",
              "      <td>40.701489</td>\n",
              "      <td>-74.012545</td>\n",
              "    </tr>\n",
              "    <tr>\n",
              "      <th>5153365</th>\n",
              "      <td>206891807</td>\n",
              "      <td>2020-01-01</td>\n",
              "      <td>113.0</td>\n",
              "      <td>MENACING,UNCLASSIFIED</td>\n",
              "      <td>344.0</td>\n",
              "      <td>ASSAULT 3 &amp; RELATED OFFENSES</td>\n",
              "      <td>PL 1201401</td>\n",
              "      <td>M</td>\n",
              "      <td>K</td>\n",
              "      <td>90</td>\n",
              "      <td>0.0</td>\n",
              "      <td>&lt;18</td>\n",
              "      <td>M</td>\n",
              "      <td>BLACK</td>\n",
              "      <td>993514.0</td>\n",
              "      <td>197321.0</td>\n",
              "      <td>40.708281</td>\n",
              "      <td>-73.966587</td>\n",
              "    </tr>\n",
              "    <tr>\n",
              "      <th>5153366</th>\n",
              "      <td>207760542</td>\n",
              "      <td>2020-01-11</td>\n",
              "      <td>339.0</td>\n",
              "      <td>LARCENY,PETIT FROM OPEN AREAS,</td>\n",
              "      <td>341.0</td>\n",
              "      <td>PETIT LARCENY</td>\n",
              "      <td>PL 1552500</td>\n",
              "      <td>M</td>\n",
              "      <td>M</td>\n",
              "      <td>13</td>\n",
              "      <td>0.0</td>\n",
              "      <td>25-44</td>\n",
              "      <td>M</td>\n",
              "      <td>WHITE</td>\n",
              "      <td>986464.0</td>\n",
              "      <td>208227.0</td>\n",
              "      <td>40.738220</td>\n",
              "      <td>-73.992012</td>\n",
              "    </tr>\n",
              "    <tr>\n",
              "      <th>5153367</th>\n",
              "      <td>206896678</td>\n",
              "      <td>2020-01-01</td>\n",
              "      <td>105.0</td>\n",
              "      <td>STRANGULATION 1ST</td>\n",
              "      <td>106.0</td>\n",
              "      <td>FELONY ASSAULT</td>\n",
              "      <td>PL 1211200</td>\n",
              "      <td>F</td>\n",
              "      <td>Q</td>\n",
              "      <td>111</td>\n",
              "      <td>0.0</td>\n",
              "      <td>45-64</td>\n",
              "      <td>M</td>\n",
              "      <td>BLACK</td>\n",
              "      <td>1053534.0</td>\n",
              "      <td>211808.0</td>\n",
              "      <td>40.747777</td>\n",
              "      <td>-73.749952</td>\n",
              "    </tr>\n",
              "    <tr>\n",
              "      <th>5153368</th>\n",
              "      <td>206908101</td>\n",
              "      <td>2020-01-02</td>\n",
              "      <td>782.0</td>\n",
              "      <td>WEAPONS, POSSESSION, ETC</td>\n",
              "      <td>236.0</td>\n",
              "      <td>DANGEROUS WEAPONS</td>\n",
              "      <td>PL 2650101</td>\n",
              "      <td>M</td>\n",
              "      <td>Q</td>\n",
              "      <td>115</td>\n",
              "      <td>3.0</td>\n",
              "      <td>25-44</td>\n",
              "      <td>M</td>\n",
              "      <td>BLACK</td>\n",
              "      <td>1018623.0</td>\n",
              "      <td>214936.0</td>\n",
              "      <td>40.756568</td>\n",
              "      <td>-73.875932</td>\n",
              "    </tr>\n",
              "  </tbody>\n",
              "</table>\n",
              "<p>5170769 rows × 18 columns</p>\n",
              "</div>"
            ],
            "text/plain": [
              "         ARREST_KEY ARREST_DATE  PD_CD  ... Y_COORD_CD   Latitude  Longitude\n",
              "0         226147627  2021-03-26  177.0  ...   200203.0  40.716196 -73.997491\n",
              "1         226113029  2021-03-25  101.0  ...   190460.0  40.689453 -73.987229\n",
              "2         225789182  2021-03-18  101.0  ...   246833.0  40.844140 -73.900389\n",
              "3         225751057  2021-03-17  105.0  ...   187022.0  40.680003 -73.942236\n",
              "4         225591004  2021-03-14  105.0  ...   250223.0  40.853408 -73.864849\n",
              "...             ...         ...    ...  ...        ...        ...        ...\n",
              "5153364   207601040  2020-01-08  273.0  ...   194845.0  40.701489 -74.012545\n",
              "5153365   206891807  2020-01-01  113.0  ...   197321.0  40.708281 -73.966587\n",
              "5153366   207760542  2020-01-11  339.0  ...   208227.0  40.738220 -73.992012\n",
              "5153367   206896678  2020-01-01  105.0  ...   211808.0  40.747777 -73.749952\n",
              "5153368   206908101  2020-01-02  782.0  ...   214936.0  40.756568 -73.875932\n",
              "\n",
              "[5170769 rows x 18 columns]"
            ]
          },
          "metadata": {
            "tags": []
          },
          "execution_count": 38
        }
      ]
    },
    {
      "cell_type": "code",
      "metadata": {
        "colab": {
          "base_uri": "https://localhost:8080/",
          "height": 521
        },
        "id": "YwkIUR1etCbe",
        "outputId": "57380407-6229-43c4-ddc4-4d71f04af496"
      },
      "source": [
        "df_clean.groupby(['PD_DESC']).count()"
      ],
      "execution_count": 39,
      "outputs": [
        {
          "output_type": "execute_result",
          "data": {
            "text/html": [
              "<div>\n",
              "<style scoped>\n",
              "    .dataframe tbody tr th:only-of-type {\n",
              "        vertical-align: middle;\n",
              "    }\n",
              "\n",
              "    .dataframe tbody tr th {\n",
              "        vertical-align: top;\n",
              "    }\n",
              "\n",
              "    .dataframe thead th {\n",
              "        text-align: right;\n",
              "    }\n",
              "</style>\n",
              "<table border=\"1\" class=\"dataframe\">\n",
              "  <thead>\n",
              "    <tr style=\"text-align: right;\">\n",
              "      <th></th>\n",
              "      <th>ARREST_KEY</th>\n",
              "      <th>ARREST_DATE</th>\n",
              "      <th>PD_CD</th>\n",
              "      <th>KY_CD</th>\n",
              "      <th>OFNS_DESC</th>\n",
              "      <th>LAW_CODE</th>\n",
              "      <th>LAW_CAT_CD</th>\n",
              "      <th>ARREST_BORO</th>\n",
              "      <th>ARREST_PRECINCT</th>\n",
              "      <th>JURISDICTION_CODE</th>\n",
              "      <th>AGE_GROUP</th>\n",
              "      <th>PERP_SEX</th>\n",
              "      <th>PERP_RACE</th>\n",
              "      <th>X_COORD_CD</th>\n",
              "      <th>Y_COORD_CD</th>\n",
              "      <th>Latitude</th>\n",
              "      <th>Longitude</th>\n",
              "    </tr>\n",
              "    <tr>\n",
              "      <th>PD_DESC</th>\n",
              "      <th></th>\n",
              "      <th></th>\n",
              "      <th></th>\n",
              "      <th></th>\n",
              "      <th></th>\n",
              "      <th></th>\n",
              "      <th></th>\n",
              "      <th></th>\n",
              "      <th></th>\n",
              "      <th></th>\n",
              "      <th></th>\n",
              "      <th></th>\n",
              "      <th></th>\n",
              "      <th></th>\n",
              "      <th></th>\n",
              "      <th></th>\n",
              "      <th></th>\n",
              "    </tr>\n",
              "  </thead>\n",
              "  <tbody>\n",
              "    <tr>\n",
              "      <th>A.B.C.,FALSE PROOF OF AGE</th>\n",
              "      <td>407</td>\n",
              "      <td>407</td>\n",
              "      <td>407</td>\n",
              "      <td>407</td>\n",
              "      <td>407</td>\n",
              "      <td>407</td>\n",
              "      <td>407</td>\n",
              "      <td>407</td>\n",
              "      <td>407</td>\n",
              "      <td>407</td>\n",
              "      <td>407</td>\n",
              "      <td>407</td>\n",
              "      <td>407</td>\n",
              "      <td>407</td>\n",
              "      <td>407</td>\n",
              "      <td>407</td>\n",
              "      <td>407</td>\n",
              "    </tr>\n",
              "    <tr>\n",
              "      <th>ABANDON ANIMAL</th>\n",
              "      <td>3</td>\n",
              "      <td>3</td>\n",
              "      <td>3</td>\n",
              "      <td>3</td>\n",
              "      <td>3</td>\n",
              "      <td>3</td>\n",
              "      <td>3</td>\n",
              "      <td>3</td>\n",
              "      <td>3</td>\n",
              "      <td>3</td>\n",
              "      <td>3</td>\n",
              "      <td>3</td>\n",
              "      <td>3</td>\n",
              "      <td>3</td>\n",
              "      <td>3</td>\n",
              "      <td>3</td>\n",
              "      <td>3</td>\n",
              "    </tr>\n",
              "    <tr>\n",
              "      <th>ABORTION 1</th>\n",
              "      <td>10</td>\n",
              "      <td>10</td>\n",
              "      <td>10</td>\n",
              "      <td>10</td>\n",
              "      <td>10</td>\n",
              "      <td>10</td>\n",
              "      <td>10</td>\n",
              "      <td>10</td>\n",
              "      <td>10</td>\n",
              "      <td>10</td>\n",
              "      <td>10</td>\n",
              "      <td>10</td>\n",
              "      <td>10</td>\n",
              "      <td>10</td>\n",
              "      <td>10</td>\n",
              "      <td>10</td>\n",
              "      <td>10</td>\n",
              "    </tr>\n",
              "    <tr>\n",
              "      <th>ABORTION 2, 1, SELF</th>\n",
              "      <td>1</td>\n",
              "      <td>1</td>\n",
              "      <td>1</td>\n",
              "      <td>1</td>\n",
              "      <td>1</td>\n",
              "      <td>1</td>\n",
              "      <td>1</td>\n",
              "      <td>1</td>\n",
              "      <td>1</td>\n",
              "      <td>1</td>\n",
              "      <td>1</td>\n",
              "      <td>1</td>\n",
              "      <td>1</td>\n",
              "      <td>1</td>\n",
              "      <td>1</td>\n",
              "      <td>1</td>\n",
              "      <td>1</td>\n",
              "    </tr>\n",
              "    <tr>\n",
              "      <th>ABSCONDING FROM WORK RELEASE 2</th>\n",
              "      <td>27</td>\n",
              "      <td>27</td>\n",
              "      <td>27</td>\n",
              "      <td>27</td>\n",
              "      <td>27</td>\n",
              "      <td>27</td>\n",
              "      <td>27</td>\n",
              "      <td>27</td>\n",
              "      <td>27</td>\n",
              "      <td>27</td>\n",
              "      <td>27</td>\n",
              "      <td>27</td>\n",
              "      <td>27</td>\n",
              "      <td>27</td>\n",
              "      <td>27</td>\n",
              "      <td>27</td>\n",
              "      <td>27</td>\n",
              "    </tr>\n",
              "    <tr>\n",
              "      <th>...</th>\n",
              "      <td>...</td>\n",
              "      <td>...</td>\n",
              "      <td>...</td>\n",
              "      <td>...</td>\n",
              "      <td>...</td>\n",
              "      <td>...</td>\n",
              "      <td>...</td>\n",
              "      <td>...</td>\n",
              "      <td>...</td>\n",
              "      <td>...</td>\n",
              "      <td>...</td>\n",
              "      <td>...</td>\n",
              "      <td>...</td>\n",
              "      <td>...</td>\n",
              "      <td>...</td>\n",
              "      <td>...</td>\n",
              "      <td>...</td>\n",
              "    </tr>\n",
              "    <tr>\n",
              "      <th>WEAPONS,MFR,TRANSPORT,ETC.</th>\n",
              "      <td>262</td>\n",
              "      <td>262</td>\n",
              "      <td>262</td>\n",
              "      <td>262</td>\n",
              "      <td>262</td>\n",
              "      <td>262</td>\n",
              "      <td>262</td>\n",
              "      <td>262</td>\n",
              "      <td>262</td>\n",
              "      <td>262</td>\n",
              "      <td>262</td>\n",
              "      <td>262</td>\n",
              "      <td>262</td>\n",
              "      <td>262</td>\n",
              "      <td>262</td>\n",
              "      <td>262</td>\n",
              "      <td>262</td>\n",
              "    </tr>\n",
              "    <tr>\n",
              "      <th>WEAPONS,PROHIBITED USE</th>\n",
              "      <td>36</td>\n",
              "      <td>36</td>\n",
              "      <td>36</td>\n",
              "      <td>36</td>\n",
              "      <td>36</td>\n",
              "      <td>36</td>\n",
              "      <td>36</td>\n",
              "      <td>36</td>\n",
              "      <td>36</td>\n",
              "      <td>36</td>\n",
              "      <td>36</td>\n",
              "      <td>36</td>\n",
              "      <td>36</td>\n",
              "      <td>36</td>\n",
              "      <td>36</td>\n",
              "      <td>36</td>\n",
              "      <td>36</td>\n",
              "    </tr>\n",
              "    <tr>\n",
              "      <th>WEAPONS,PROHIBITED USE IMITATI</th>\n",
              "      <td>2</td>\n",
              "      <td>2</td>\n",
              "      <td>2</td>\n",
              "      <td>2</td>\n",
              "      <td>2</td>\n",
              "      <td>2</td>\n",
              "      <td>2</td>\n",
              "      <td>2</td>\n",
              "      <td>2</td>\n",
              "      <td>2</td>\n",
              "      <td>2</td>\n",
              "      <td>2</td>\n",
              "      <td>2</td>\n",
              "      <td>2</td>\n",
              "      <td>2</td>\n",
              "      <td>2</td>\n",
              "      <td>2</td>\n",
              "    </tr>\n",
              "    <tr>\n",
              "      <th>WEAPONS,PROHIBITED USE IMITATION PISTOL</th>\n",
              "      <td>5</td>\n",
              "      <td>5</td>\n",
              "      <td>5</td>\n",
              "      <td>5</td>\n",
              "      <td>5</td>\n",
              "      <td>5</td>\n",
              "      <td>5</td>\n",
              "      <td>5</td>\n",
              "      <td>5</td>\n",
              "      <td>5</td>\n",
              "      <td>5</td>\n",
              "      <td>5</td>\n",
              "      <td>5</td>\n",
              "      <td>5</td>\n",
              "      <td>5</td>\n",
              "      <td>5</td>\n",
              "      <td>5</td>\n",
              "    </tr>\n",
              "    <tr>\n",
              "      <th>WOUNDS,REPORTING OF</th>\n",
              "      <td>1</td>\n",
              "      <td>1</td>\n",
              "      <td>1</td>\n",
              "      <td>1</td>\n",
              "      <td>1</td>\n",
              "      <td>1</td>\n",
              "      <td>1</td>\n",
              "      <td>1</td>\n",
              "      <td>1</td>\n",
              "      <td>1</td>\n",
              "      <td>1</td>\n",
              "      <td>1</td>\n",
              "      <td>1</td>\n",
              "      <td>1</td>\n",
              "      <td>1</td>\n",
              "      <td>1</td>\n",
              "      <td>1</td>\n",
              "    </tr>\n",
              "  </tbody>\n",
              "</table>\n",
              "<p>422 rows × 17 columns</p>\n",
              "</div>"
            ],
            "text/plain": [
              "                                         ARREST_KEY  ...  Longitude\n",
              "PD_DESC                                              ...           \n",
              "A.B.C.,FALSE PROOF OF AGE                       407  ...        407\n",
              "ABANDON ANIMAL                                    3  ...          3\n",
              "ABORTION 1                                       10  ...         10\n",
              "ABORTION 2, 1, SELF                               1  ...          1\n",
              "ABSCONDING FROM WORK RELEASE 2                   27  ...         27\n",
              "...                                             ...  ...        ...\n",
              "WEAPONS,MFR,TRANSPORT,ETC.                      262  ...        262\n",
              "WEAPONS,PROHIBITED USE                           36  ...         36\n",
              "WEAPONS,PROHIBITED USE IMITATI                    2  ...          2\n",
              "WEAPONS,PROHIBITED USE IMITATION PISTOL           5  ...          5\n",
              "WOUNDS,REPORTING OF                               1  ...          1\n",
              "\n",
              "[422 rows x 17 columns]"
            ]
          },
          "metadata": {
            "tags": []
          },
          "execution_count": 39
        }
      ]
    },
    {
      "cell_type": "code",
      "metadata": {
        "colab": {
          "base_uri": "https://localhost:8080/",
          "height": 450
        },
        "id": "Z8-9pcyeuCBP",
        "outputId": "d97ad1e5-1f9a-4cb2-a958-85aaabbdcbfe"
      },
      "source": [
        "ofns_desc_key_cd = df_clean.groupby(['OFNS_DESC','KY_CD'])[['OFNS_DESC']].count()\n",
        "# pd.set_option('display.max_rows', df1.shape[0]+1)\n",
        "ofns_desc_key_cd"
      ],
      "execution_count": 40,
      "outputs": [
        {
          "output_type": "execute_result",
          "data": {
            "text/html": [
              "<div>\n",
              "<style scoped>\n",
              "    .dataframe tbody tr th:only-of-type {\n",
              "        vertical-align: middle;\n",
              "    }\n",
              "\n",
              "    .dataframe tbody tr th {\n",
              "        vertical-align: top;\n",
              "    }\n",
              "\n",
              "    .dataframe thead th {\n",
              "        text-align: right;\n",
              "    }\n",
              "</style>\n",
              "<table border=\"1\" class=\"dataframe\">\n",
              "  <thead>\n",
              "    <tr style=\"text-align: right;\">\n",
              "      <th></th>\n",
              "      <th></th>\n",
              "      <th>OFNS_DESC</th>\n",
              "    </tr>\n",
              "    <tr>\n",
              "      <th>OFNS_DESC</th>\n",
              "      <th>KY_CD</th>\n",
              "      <th></th>\n",
              "    </tr>\n",
              "  </thead>\n",
              "  <tbody>\n",
              "    <tr>\n",
              "      <th>ABORTION</th>\n",
              "      <th>123.0</th>\n",
              "      <td>10</td>\n",
              "    </tr>\n",
              "    <tr>\n",
              "      <th rowspan=\"2\" valign=\"top\">ADMINISTRATIVE CODE</th>\n",
              "      <th>365.0</th>\n",
              "      <td>465</td>\n",
              "    </tr>\n",
              "    <tr>\n",
              "      <th>675.0</th>\n",
              "      <td>13813</td>\n",
              "    </tr>\n",
              "    <tr>\n",
              "      <th>ADMINISTRATIVE CODES</th>\n",
              "      <th>685.0</th>\n",
              "      <td>169</td>\n",
              "    </tr>\n",
              "    <tr>\n",
              "      <th>AGRICULTURE &amp; MRKTS LAW-UNCLASSIFIED</th>\n",
              "      <th>364.0</th>\n",
              "      <td>138</td>\n",
              "    </tr>\n",
              "    <tr>\n",
              "      <th>...</th>\n",
              "      <th>...</th>\n",
              "      <td>...</td>\n",
              "    </tr>\n",
              "    <tr>\n",
              "      <th>UNAUTHORIZED USE OF A VEHICLE 3 (UUV)</th>\n",
              "      <th>353.0</th>\n",
              "      <td>11248</td>\n",
              "    </tr>\n",
              "    <tr>\n",
              "      <th>UNDER THE INFLUENCE, DRUGS</th>\n",
              "      <th>577.0</th>\n",
              "      <td>11</td>\n",
              "    </tr>\n",
              "    <tr>\n",
              "      <th>UNLAWFUL POSS. WEAP. ON SCHOOL</th>\n",
              "      <th>455.0</th>\n",
              "      <td>1</td>\n",
              "    </tr>\n",
              "    <tr>\n",
              "      <th>UNLAWFUL POSS. WEAP. ON SCHOOL GROUNDS</th>\n",
              "      <th>455.0</th>\n",
              "      <td>63</td>\n",
              "    </tr>\n",
              "    <tr>\n",
              "      <th>VEHICLE AND TRAFFIC LAWS</th>\n",
              "      <th>348.0</th>\n",
              "      <td>206450</td>\n",
              "    </tr>\n",
              "  </tbody>\n",
              "</table>\n",
              "<p>102 rows × 1 columns</p>\n",
              "</div>"
            ],
            "text/plain": [
              "                                              OFNS_DESC\n",
              "OFNS_DESC                              KY_CD           \n",
              "ABORTION                               123.0         10\n",
              "ADMINISTRATIVE CODE                    365.0        465\n",
              "                                       675.0      13813\n",
              "ADMINISTRATIVE CODES                   685.0        169\n",
              "AGRICULTURE & MRKTS LAW-UNCLASSIFIED   364.0        138\n",
              "...                                                 ...\n",
              "UNAUTHORIZED USE OF A VEHICLE 3 (UUV)  353.0      11248\n",
              "UNDER THE INFLUENCE, DRUGS             577.0         11\n",
              "UNLAWFUL POSS. WEAP. ON SCHOOL         455.0          1\n",
              "UNLAWFUL POSS. WEAP. ON SCHOOL GROUNDS 455.0         63\n",
              "VEHICLE AND TRAFFIC LAWS               348.0     206450\n",
              "\n",
              "[102 rows x 1 columns]"
            ]
          },
          "metadata": {
            "tags": []
          },
          "execution_count": 40
        }
      ]
    },
    {
      "cell_type": "code",
      "metadata": {
        "colab": {
          "base_uri": "https://localhost:8080/",
          "height": 450
        },
        "id": "06AyuEcm3ZCH",
        "outputId": "1a141563-92d4-4ca6-f81e-db3ce5f7e105"
      },
      "source": [
        "df2= df_clean.groupby(['PD_DESC','PD_CD','OFNS_DESC','KY_CD'])[['OFNS_DESC']].count()\n",
        "df2"
      ],
      "execution_count": 41,
      "outputs": [
        {
          "output_type": "execute_result",
          "data": {
            "text/html": [
              "<div>\n",
              "<style scoped>\n",
              "    .dataframe tbody tr th:only-of-type {\n",
              "        vertical-align: middle;\n",
              "    }\n",
              "\n",
              "    .dataframe tbody tr th {\n",
              "        vertical-align: top;\n",
              "    }\n",
              "\n",
              "    .dataframe thead th {\n",
              "        text-align: right;\n",
              "    }\n",
              "</style>\n",
              "<table border=\"1\" class=\"dataframe\">\n",
              "  <thead>\n",
              "    <tr style=\"text-align: right;\">\n",
              "      <th></th>\n",
              "      <th></th>\n",
              "      <th></th>\n",
              "      <th></th>\n",
              "      <th>OFNS_DESC</th>\n",
              "    </tr>\n",
              "    <tr>\n",
              "      <th>PD_DESC</th>\n",
              "      <th>PD_CD</th>\n",
              "      <th>OFNS_DESC</th>\n",
              "      <th>KY_CD</th>\n",
              "      <th></th>\n",
              "    </tr>\n",
              "  </thead>\n",
              "  <tbody>\n",
              "    <tr>\n",
              "      <th>A.B.C.,FALSE PROOF OF AGE</th>\n",
              "      <th>803.0</th>\n",
              "      <th>OTHER STATE LAWS</th>\n",
              "      <th>677.0</th>\n",
              "      <td>407</td>\n",
              "    </tr>\n",
              "    <tr>\n",
              "      <th>ABANDON ANIMAL</th>\n",
              "      <th>818.0</th>\n",
              "      <th>AGRICULTURE &amp; MRKTS LAW-UNCLASSIFIED</th>\n",
              "      <th>364.0</th>\n",
              "      <td>3</td>\n",
              "    </tr>\n",
              "    <tr>\n",
              "      <th>ABORTION 1</th>\n",
              "      <th>143.0</th>\n",
              "      <th>ABORTION</th>\n",
              "      <th>123.0</th>\n",
              "      <td>10</td>\n",
              "    </tr>\n",
              "    <tr>\n",
              "      <th>ABORTION 2, 1, SELF</th>\n",
              "      <th>146.0</th>\n",
              "      <th>OFFENSES AGAINST THE PERSON</th>\n",
              "      <th>355.0</th>\n",
              "      <td>1</td>\n",
              "    </tr>\n",
              "    <tr>\n",
              "      <th>ABSCONDING FROM WORK RELEASE 2</th>\n",
              "      <th>756.0</th>\n",
              "      <th>OFFENSES AGAINST PUBLIC ADMINISTRATION</th>\n",
              "      <th>359.0</th>\n",
              "      <td>27</td>\n",
              "    </tr>\n",
              "    <tr>\n",
              "      <th>...</th>\n",
              "      <th>...</th>\n",
              "      <th>...</th>\n",
              "      <th>...</th>\n",
              "      <td>...</td>\n",
              "    </tr>\n",
              "    <tr>\n",
              "      <th rowspan=\"2\" valign=\"top\">WEAPONS,PROHIBITED USE</th>\n",
              "      <th>786.0</th>\n",
              "      <th>DANGEROUS WEAPONS</th>\n",
              "      <th>236.0</th>\n",
              "      <td>26</td>\n",
              "    </tr>\n",
              "    <tr>\n",
              "      <th>796.0</th>\n",
              "      <th>DANGEROUS WEAPONS</th>\n",
              "      <th>118.0</th>\n",
              "      <td>10</td>\n",
              "    </tr>\n",
              "    <tr>\n",
              "      <th>WEAPONS,PROHIBITED USE IMITATI</th>\n",
              "      <th>787.0</th>\n",
              "      <th>DANGEROUS WEAPONS</th>\n",
              "      <th>236.0</th>\n",
              "      <td>2</td>\n",
              "    </tr>\n",
              "    <tr>\n",
              "      <th>WEAPONS,PROHIBITED USE IMITATION PISTOL</th>\n",
              "      <th>787.0</th>\n",
              "      <th>DANGEROUS WEAPONS</th>\n",
              "      <th>236.0</th>\n",
              "      <td>5</td>\n",
              "    </tr>\n",
              "    <tr>\n",
              "      <th>WOUNDS,REPORTING OF</th>\n",
              "      <th>797.0</th>\n",
              "      <th>OFFENSES AGAINST PUBLIC SAFETY</th>\n",
              "      <th>363.0</th>\n",
              "      <td>1</td>\n",
              "    </tr>\n",
              "  </tbody>\n",
              "</table>\n",
              "<p>472 rows × 1 columns</p>\n",
              "</div>"
            ],
            "text/plain": [
              "                                                                                            OFNS_DESC\n",
              "PD_DESC                                 PD_CD OFNS_DESC                              KY_CD           \n",
              "A.B.C.,FALSE PROOF OF AGE               803.0 OTHER STATE LAWS                       677.0        407\n",
              "ABANDON ANIMAL                          818.0 AGRICULTURE & MRKTS LAW-UNCLASSIFIED   364.0          3\n",
              "ABORTION 1                              143.0 ABORTION                               123.0         10\n",
              "ABORTION 2, 1, SELF                     146.0 OFFENSES AGAINST THE PERSON            355.0          1\n",
              "ABSCONDING FROM WORK RELEASE 2          756.0 OFFENSES AGAINST PUBLIC ADMINISTRATION 359.0         27\n",
              "...                                                                                               ...\n",
              "WEAPONS,PROHIBITED USE                  786.0 DANGEROUS WEAPONS                      236.0         26\n",
              "                                        796.0 DANGEROUS WEAPONS                      118.0         10\n",
              "WEAPONS,PROHIBITED USE IMITATI          787.0 DANGEROUS WEAPONS                      236.0          2\n",
              "WEAPONS,PROHIBITED USE IMITATION PISTOL 787.0 DANGEROUS WEAPONS                      236.0          5\n",
              "WOUNDS,REPORTING OF                     797.0 OFFENSES AGAINST PUBLIC SAFETY         363.0          1\n",
              "\n",
              "[472 rows x 1 columns]"
            ]
          },
          "metadata": {
            "tags": []
          },
          "execution_count": 41
        }
      ]
    },
    {
      "cell_type": "code",
      "metadata": {
        "id": "nempSh695ffE",
        "colab": {
          "base_uri": "https://localhost:8080/",
          "height": 450
        },
        "outputId": "14a23a7a-03c0-4e4b-864e-df927ba4733d"
      },
      "source": [
        "ofns_desc_key_cd"
      ],
      "execution_count": 42,
      "outputs": [
        {
          "output_type": "execute_result",
          "data": {
            "text/html": [
              "<div>\n",
              "<style scoped>\n",
              "    .dataframe tbody tr th:only-of-type {\n",
              "        vertical-align: middle;\n",
              "    }\n",
              "\n",
              "    .dataframe tbody tr th {\n",
              "        vertical-align: top;\n",
              "    }\n",
              "\n",
              "    .dataframe thead th {\n",
              "        text-align: right;\n",
              "    }\n",
              "</style>\n",
              "<table border=\"1\" class=\"dataframe\">\n",
              "  <thead>\n",
              "    <tr style=\"text-align: right;\">\n",
              "      <th></th>\n",
              "      <th></th>\n",
              "      <th>OFNS_DESC</th>\n",
              "    </tr>\n",
              "    <tr>\n",
              "      <th>OFNS_DESC</th>\n",
              "      <th>KY_CD</th>\n",
              "      <th></th>\n",
              "    </tr>\n",
              "  </thead>\n",
              "  <tbody>\n",
              "    <tr>\n",
              "      <th>ABORTION</th>\n",
              "      <th>123.0</th>\n",
              "      <td>10</td>\n",
              "    </tr>\n",
              "    <tr>\n",
              "      <th rowspan=\"2\" valign=\"top\">ADMINISTRATIVE CODE</th>\n",
              "      <th>365.0</th>\n",
              "      <td>465</td>\n",
              "    </tr>\n",
              "    <tr>\n",
              "      <th>675.0</th>\n",
              "      <td>13813</td>\n",
              "    </tr>\n",
              "    <tr>\n",
              "      <th>ADMINISTRATIVE CODES</th>\n",
              "      <th>685.0</th>\n",
              "      <td>169</td>\n",
              "    </tr>\n",
              "    <tr>\n",
              "      <th>AGRICULTURE &amp; MRKTS LAW-UNCLASSIFIED</th>\n",
              "      <th>364.0</th>\n",
              "      <td>138</td>\n",
              "    </tr>\n",
              "    <tr>\n",
              "      <th>...</th>\n",
              "      <th>...</th>\n",
              "      <td>...</td>\n",
              "    </tr>\n",
              "    <tr>\n",
              "      <th>UNAUTHORIZED USE OF A VEHICLE 3 (UUV)</th>\n",
              "      <th>353.0</th>\n",
              "      <td>11248</td>\n",
              "    </tr>\n",
              "    <tr>\n",
              "      <th>UNDER THE INFLUENCE, DRUGS</th>\n",
              "      <th>577.0</th>\n",
              "      <td>11</td>\n",
              "    </tr>\n",
              "    <tr>\n",
              "      <th>UNLAWFUL POSS. WEAP. ON SCHOOL</th>\n",
              "      <th>455.0</th>\n",
              "      <td>1</td>\n",
              "    </tr>\n",
              "    <tr>\n",
              "      <th>UNLAWFUL POSS. WEAP. ON SCHOOL GROUNDS</th>\n",
              "      <th>455.0</th>\n",
              "      <td>63</td>\n",
              "    </tr>\n",
              "    <tr>\n",
              "      <th>VEHICLE AND TRAFFIC LAWS</th>\n",
              "      <th>348.0</th>\n",
              "      <td>206450</td>\n",
              "    </tr>\n",
              "  </tbody>\n",
              "</table>\n",
              "<p>102 rows × 1 columns</p>\n",
              "</div>"
            ],
            "text/plain": [
              "                                              OFNS_DESC\n",
              "OFNS_DESC                              KY_CD           \n",
              "ABORTION                               123.0         10\n",
              "ADMINISTRATIVE CODE                    365.0        465\n",
              "                                       675.0      13813\n",
              "ADMINISTRATIVE CODES                   685.0        169\n",
              "AGRICULTURE & MRKTS LAW-UNCLASSIFIED   364.0        138\n",
              "...                                                 ...\n",
              "UNAUTHORIZED USE OF A VEHICLE 3 (UUV)  353.0      11248\n",
              "UNDER THE INFLUENCE, DRUGS             577.0         11\n",
              "UNLAWFUL POSS. WEAP. ON SCHOOL         455.0          1\n",
              "UNLAWFUL POSS. WEAP. ON SCHOOL GROUNDS 455.0         63\n",
              "VEHICLE AND TRAFFIC LAWS               348.0     206450\n",
              "\n",
              "[102 rows x 1 columns]"
            ]
          },
          "metadata": {
            "tags": []
          },
          "execution_count": 42
        }
      ]
    },
    {
      "cell_type": "code",
      "metadata": {
        "colab": {
          "base_uri": "https://localhost:8080/",
          "height": 566
        },
        "id": "9svPsJDFzDkH",
        "outputId": "dfe42255-8501-42fe-84c0-56768936d0b6"
      },
      "source": [
        "df_clean.loc[df_clean['OFNS_DESC'] == 'ABORTION']"
      ],
      "execution_count": 43,
      "outputs": [
        {
          "output_type": "execute_result",
          "data": {
            "text/html": [
              "<div>\n",
              "<style scoped>\n",
              "    .dataframe tbody tr th:only-of-type {\n",
              "        vertical-align: middle;\n",
              "    }\n",
              "\n",
              "    .dataframe tbody tr th {\n",
              "        vertical-align: top;\n",
              "    }\n",
              "\n",
              "    .dataframe thead th {\n",
              "        text-align: right;\n",
              "    }\n",
              "</style>\n",
              "<table border=\"1\" class=\"dataframe\">\n",
              "  <thead>\n",
              "    <tr style=\"text-align: right;\">\n",
              "      <th></th>\n",
              "      <th>ARREST_KEY</th>\n",
              "      <th>ARREST_DATE</th>\n",
              "      <th>PD_CD</th>\n",
              "      <th>PD_DESC</th>\n",
              "      <th>KY_CD</th>\n",
              "      <th>OFNS_DESC</th>\n",
              "      <th>LAW_CODE</th>\n",
              "      <th>LAW_CAT_CD</th>\n",
              "      <th>ARREST_BORO</th>\n",
              "      <th>ARREST_PRECINCT</th>\n",
              "      <th>JURISDICTION_CODE</th>\n",
              "      <th>AGE_GROUP</th>\n",
              "      <th>PERP_SEX</th>\n",
              "      <th>PERP_RACE</th>\n",
              "      <th>X_COORD_CD</th>\n",
              "      <th>Y_COORD_CD</th>\n",
              "      <th>Latitude</th>\n",
              "      <th>Longitude</th>\n",
              "    </tr>\n",
              "  </thead>\n",
              "  <tbody>\n",
              "    <tr>\n",
              "      <th>245700</th>\n",
              "      <td>188019656</td>\n",
              "      <td>2018-09-25</td>\n",
              "      <td>143.0</td>\n",
              "      <td>ABORTION 1</td>\n",
              "      <td>123.0</td>\n",
              "      <td>ABORTION</td>\n",
              "      <td>PL 1254000</td>\n",
              "      <td>F</td>\n",
              "      <td>K</td>\n",
              "      <td>68</td>\n",
              "      <td>0.0</td>\n",
              "      <td>25-44</td>\n",
              "      <td>M</td>\n",
              "      <td>WHITE</td>\n",
              "      <td>980244.0</td>\n",
              "      <td>170356.0</td>\n",
              "      <td>40.634272</td>\n",
              "      <td>-74.014435</td>\n",
              "    </tr>\n",
              "    <tr>\n",
              "      <th>312373</th>\n",
              "      <td>184587703</td>\n",
              "      <td>2018-06-29</td>\n",
              "      <td>143.0</td>\n",
              "      <td>ABORTION 1</td>\n",
              "      <td>123.0</td>\n",
              "      <td>ABORTION</td>\n",
              "      <td>PL 1254000</td>\n",
              "      <td>F</td>\n",
              "      <td>K</td>\n",
              "      <td>79</td>\n",
              "      <td>2.0</td>\n",
              "      <td>25-44</td>\n",
              "      <td>M</td>\n",
              "      <td>BLACK</td>\n",
              "      <td>1000629.0</td>\n",
              "      <td>193391.0</td>\n",
              "      <td>40.697483</td>\n",
              "      <td>-73.940934</td>\n",
              "    </tr>\n",
              "    <tr>\n",
              "      <th>400808</th>\n",
              "      <td>182478206</td>\n",
              "      <td>2018-05-08</td>\n",
              "      <td>143.0</td>\n",
              "      <td>ABORTION 1</td>\n",
              "      <td>123.0</td>\n",
              "      <td>ABORTION</td>\n",
              "      <td>PL 1254000</td>\n",
              "      <td>F</td>\n",
              "      <td>B</td>\n",
              "      <td>41</td>\n",
              "      <td>0.0</td>\n",
              "      <td>25-44</td>\n",
              "      <td>M</td>\n",
              "      <td>WHITE HISPANIC</td>\n",
              "      <td>1013880.0</td>\n",
              "      <td>240034.0</td>\n",
              "      <td>40.825472</td>\n",
              "      <td>-73.892941</td>\n",
              "    </tr>\n",
              "    <tr>\n",
              "      <th>753289</th>\n",
              "      <td>171560375</td>\n",
              "      <td>2017-11-14</td>\n",
              "      <td>143.0</td>\n",
              "      <td>ABORTION 1</td>\n",
              "      <td>123.0</td>\n",
              "      <td>ABORTION</td>\n",
              "      <td>PL 1254000</td>\n",
              "      <td>F</td>\n",
              "      <td>Q</td>\n",
              "      <td>114</td>\n",
              "      <td>0.0</td>\n",
              "      <td>25-44</td>\n",
              "      <td>M</td>\n",
              "      <td>BLACK</td>\n",
              "      <td>1007694.0</td>\n",
              "      <td>219657.0</td>\n",
              "      <td>40.769561</td>\n",
              "      <td>-73.915363</td>\n",
              "    </tr>\n",
              "    <tr>\n",
              "      <th>1352095</th>\n",
              "      <td>148645245</td>\n",
              "      <td>2015-12-17</td>\n",
              "      <td>143.0</td>\n",
              "      <td>ABORTION 1</td>\n",
              "      <td>123.0</td>\n",
              "      <td>ABORTION</td>\n",
              "      <td>PL 1254000</td>\n",
              "      <td>F</td>\n",
              "      <td>B</td>\n",
              "      <td>40</td>\n",
              "      <td>0.0</td>\n",
              "      <td>25-44</td>\n",
              "      <td>M</td>\n",
              "      <td>WHITE HISPANIC</td>\n",
              "      <td>1005041.0</td>\n",
              "      <td>234533.0</td>\n",
              "      <td>40.810398</td>\n",
              "      <td>-73.924895</td>\n",
              "    </tr>\n",
              "    <tr>\n",
              "      <th>1449323</th>\n",
              "      <td>145598871</td>\n",
              "      <td>2015-08-24</td>\n",
              "      <td>143.0</td>\n",
              "      <td>ABORTION 1</td>\n",
              "      <td>123.0</td>\n",
              "      <td>ABORTION</td>\n",
              "      <td>PL 1254500</td>\n",
              "      <td>F</td>\n",
              "      <td>Q</td>\n",
              "      <td>101</td>\n",
              "      <td>0.0</td>\n",
              "      <td>18-24</td>\n",
              "      <td>M</td>\n",
              "      <td>BLACK</td>\n",
              "      <td>1052370.0</td>\n",
              "      <td>158776.0</td>\n",
              "      <td>40.602226</td>\n",
              "      <td>-73.754689</td>\n",
              "    </tr>\n",
              "    <tr>\n",
              "      <th>1499269</th>\n",
              "      <td>144109756</td>\n",
              "      <td>2015-06-30</td>\n",
              "      <td>143.0</td>\n",
              "      <td>ABORTION 1</td>\n",
              "      <td>123.0</td>\n",
              "      <td>ABORTION</td>\n",
              "      <td>PL 1254000</td>\n",
              "      <td>F</td>\n",
              "      <td>Q</td>\n",
              "      <td>106</td>\n",
              "      <td>0.0</td>\n",
              "      <td>25-44</td>\n",
              "      <td>M</td>\n",
              "      <td>ASIAN / PACIFIC ISLANDER</td>\n",
              "      <td>1028605.0</td>\n",
              "      <td>187930.0</td>\n",
              "      <td>40.682398</td>\n",
              "      <td>-73.840079</td>\n",
              "    </tr>\n",
              "    <tr>\n",
              "      <th>1720565</th>\n",
              "      <td>139318145</td>\n",
              "      <td>2014-10-23</td>\n",
              "      <td>143.0</td>\n",
              "      <td>ABORTION 1</td>\n",
              "      <td>123.0</td>\n",
              "      <td>ABORTION</td>\n",
              "      <td>PL 1254000</td>\n",
              "      <td>F</td>\n",
              "      <td>M</td>\n",
              "      <td>26</td>\n",
              "      <td>0.0</td>\n",
              "      <td>18-24</td>\n",
              "      <td>M</td>\n",
              "      <td>BLACK</td>\n",
              "      <td>996343.0</td>\n",
              "      <td>236150.0</td>\n",
              "      <td>40.814853</td>\n",
              "      <td>-73.956313</td>\n",
              "    </tr>\n",
              "    <tr>\n",
              "      <th>2077803</th>\n",
              "      <td>93540700</td>\n",
              "      <td>2013-11-12</td>\n",
              "      <td>143.0</td>\n",
              "      <td>ABORTION 1</td>\n",
              "      <td>123.0</td>\n",
              "      <td>ABORTION</td>\n",
              "      <td>PL 1254500</td>\n",
              "      <td>F</td>\n",
              "      <td>M</td>\n",
              "      <td>24</td>\n",
              "      <td>0.0</td>\n",
              "      <td>25-44</td>\n",
              "      <td>M</td>\n",
              "      <td>BLACK</td>\n",
              "      <td>993373.0</td>\n",
              "      <td>229301.0</td>\n",
              "      <td>40.796058</td>\n",
              "      <td>-73.967052</td>\n",
              "    </tr>\n",
              "    <tr>\n",
              "      <th>4893333</th>\n",
              "      <td>26140517</td>\n",
              "      <td>2007-01-07</td>\n",
              "      <td>143.0</td>\n",
              "      <td>ABORTION 1</td>\n",
              "      <td>123.0</td>\n",
              "      <td>ABORTION</td>\n",
              "      <td>PL 1254000</td>\n",
              "      <td>F</td>\n",
              "      <td>Q</td>\n",
              "      <td>104</td>\n",
              "      <td>0.0</td>\n",
              "      <td>25-44</td>\n",
              "      <td>M</td>\n",
              "      <td>WHITE HISPANIC</td>\n",
              "      <td>1009891.0</td>\n",
              "      <td>194977.0</td>\n",
              "      <td>40.701815</td>\n",
              "      <td>-73.907526</td>\n",
              "    </tr>\n",
              "  </tbody>\n",
              "</table>\n",
              "</div>"
            ],
            "text/plain": [
              "         ARREST_KEY ARREST_DATE  PD_CD  ... Y_COORD_CD   Latitude  Longitude\n",
              "245700    188019656  2018-09-25  143.0  ...   170356.0  40.634272 -74.014435\n",
              "312373    184587703  2018-06-29  143.0  ...   193391.0  40.697483 -73.940934\n",
              "400808    182478206  2018-05-08  143.0  ...   240034.0  40.825472 -73.892941\n",
              "753289    171560375  2017-11-14  143.0  ...   219657.0  40.769561 -73.915363\n",
              "1352095   148645245  2015-12-17  143.0  ...   234533.0  40.810398 -73.924895\n",
              "1449323   145598871  2015-08-24  143.0  ...   158776.0  40.602226 -73.754689\n",
              "1499269   144109756  2015-06-30  143.0  ...   187930.0  40.682398 -73.840079\n",
              "1720565   139318145  2014-10-23  143.0  ...   236150.0  40.814853 -73.956313\n",
              "2077803    93540700  2013-11-12  143.0  ...   229301.0  40.796058 -73.967052\n",
              "4893333    26140517  2007-01-07  143.0  ...   194977.0  40.701815 -73.907526\n",
              "\n",
              "[10 rows x 18 columns]"
            ]
          },
          "metadata": {
            "tags": []
          },
          "execution_count": 43
        }
      ]
    },
    {
      "cell_type": "code",
      "metadata": {
        "colab": {
          "base_uri": "https://localhost:8080/"
        },
        "id": "UhV5WCO4uv4-",
        "outputId": "149d2d49-e3d4-4a02-dcb9-39dc4d487c6f"
      },
      "source": [
        "df_clean.loc[df_clean['KY_CD'] == 675].shape"
      ],
      "execution_count": 44,
      "outputs": [
        {
          "output_type": "execute_result",
          "data": {
            "text/plain": [
              "(13813, 18)"
            ]
          },
          "metadata": {
            "tags": []
          },
          "execution_count": 44
        }
      ]
    },
    {
      "cell_type": "code",
      "metadata": {
        "colab": {
          "base_uri": "https://localhost:8080/"
        },
        "id": "f_ThCX0ozrhX",
        "outputId": "493dd352-5e9a-406d-cc2a-80a48595bccf"
      },
      "source": [
        "102234+806"
      ],
      "execution_count": 45,
      "outputs": [
        {
          "output_type": "execute_result",
          "data": {
            "text/plain": [
              "103040"
            ]
          },
          "metadata": {
            "tags": []
          },
          "execution_count": 45
        }
      ]
    },
    {
      "cell_type": "code",
      "metadata": {
        "colab": {
          "base_uri": "https://localhost:8080/",
          "height": 949
        },
        "id": "0CgnPwfWvSor",
        "outputId": "deff55fd-8443-41ba-cb5f-f7ff8b3ea214"
      },
      "source": [
        "df_clean.loc[(df_clean['PD_DESC'] == 'ABORTION 2, 1, SELF') | (df_clean['OFNS_DESC'] == 'OFFENSES AGAINST THE PERSON') ]"
      ],
      "execution_count": 46,
      "outputs": [
        {
          "output_type": "execute_result",
          "data": {
            "text/html": [
              "<div>\n",
              "<style scoped>\n",
              "    .dataframe tbody tr th:only-of-type {\n",
              "        vertical-align: middle;\n",
              "    }\n",
              "\n",
              "    .dataframe tbody tr th {\n",
              "        vertical-align: top;\n",
              "    }\n",
              "\n",
              "    .dataframe thead th {\n",
              "        text-align: right;\n",
              "    }\n",
              "</style>\n",
              "<table border=\"1\" class=\"dataframe\">\n",
              "  <thead>\n",
              "    <tr style=\"text-align: right;\">\n",
              "      <th></th>\n",
              "      <th>ARREST_KEY</th>\n",
              "      <th>ARREST_DATE</th>\n",
              "      <th>PD_CD</th>\n",
              "      <th>PD_DESC</th>\n",
              "      <th>KY_CD</th>\n",
              "      <th>OFNS_DESC</th>\n",
              "      <th>LAW_CODE</th>\n",
              "      <th>LAW_CAT_CD</th>\n",
              "      <th>ARREST_BORO</th>\n",
              "      <th>ARREST_PRECINCT</th>\n",
              "      <th>JURISDICTION_CODE</th>\n",
              "      <th>AGE_GROUP</th>\n",
              "      <th>PERP_SEX</th>\n",
              "      <th>PERP_RACE</th>\n",
              "      <th>X_COORD_CD</th>\n",
              "      <th>Y_COORD_CD</th>\n",
              "      <th>Latitude</th>\n",
              "      <th>Longitude</th>\n",
              "    </tr>\n",
              "  </thead>\n",
              "  <tbody>\n",
              "    <tr>\n",
              "      <th>467</th>\n",
              "      <td>225007183</td>\n",
              "      <td>2021-03-01</td>\n",
              "      <td>115.0</td>\n",
              "      <td>RECKLESS ENDANGERMENT 2</td>\n",
              "      <td>355.0</td>\n",
              "      <td>OFFENSES AGAINST THE PERSON</td>\n",
              "      <td>PL 1202000</td>\n",
              "      <td>M</td>\n",
              "      <td>K</td>\n",
              "      <td>71</td>\n",
              "      <td>0.0</td>\n",
              "      <td>25-44</td>\n",
              "      <td>M</td>\n",
              "      <td>BLACK</td>\n",
              "      <td>995869.0</td>\n",
              "      <td>178188.0</td>\n",
              "      <td>40.655762</td>\n",
              "      <td>-73.958126</td>\n",
              "    </tr>\n",
              "    <tr>\n",
              "      <th>499</th>\n",
              "      <td>225705682</td>\n",
              "      <td>2021-03-16</td>\n",
              "      <td>115.0</td>\n",
              "      <td>RECKLESS ENDANGERMENT 2</td>\n",
              "      <td>355.0</td>\n",
              "      <td>OFFENSES AGAINST THE PERSON</td>\n",
              "      <td>PL 1202000</td>\n",
              "      <td>M</td>\n",
              "      <td>K</td>\n",
              "      <td>73</td>\n",
              "      <td>0.0</td>\n",
              "      <td>25-44</td>\n",
              "      <td>M</td>\n",
              "      <td>BLACK</td>\n",
              "      <td>1006546.0</td>\n",
              "      <td>184351.0</td>\n",
              "      <td>40.672658</td>\n",
              "      <td>-73.919625</td>\n",
              "    </tr>\n",
              "    <tr>\n",
              "      <th>677</th>\n",
              "      <td>225168297</td>\n",
              "      <td>2021-03-05</td>\n",
              "      <td>115.0</td>\n",
              "      <td>RECKLESS ENDANGERMENT 2</td>\n",
              "      <td>355.0</td>\n",
              "      <td>OFFENSES AGAINST THE PERSON</td>\n",
              "      <td>PL 1202000</td>\n",
              "      <td>M</td>\n",
              "      <td>Q</td>\n",
              "      <td>100</td>\n",
              "      <td>0.0</td>\n",
              "      <td>65+</td>\n",
              "      <td>M</td>\n",
              "      <td>BLACK</td>\n",
              "      <td>1030346.0</td>\n",
              "      <td>150502.0</td>\n",
              "      <td>40.579658</td>\n",
              "      <td>-73.834058</td>\n",
              "    </tr>\n",
              "    <tr>\n",
              "      <th>759</th>\n",
              "      <td>224862401</td>\n",
              "      <td>2021-02-25</td>\n",
              "      <td>115.0</td>\n",
              "      <td>RECKLESS ENDANGERMENT 2</td>\n",
              "      <td>355.0</td>\n",
              "      <td>OFFENSES AGAINST THE PERSON</td>\n",
              "      <td>PL 1202000</td>\n",
              "      <td>M</td>\n",
              "      <td>M</td>\n",
              "      <td>14</td>\n",
              "      <td>0.0</td>\n",
              "      <td>25-44</td>\n",
              "      <td>M</td>\n",
              "      <td>BLACK</td>\n",
              "      <td>990886.0</td>\n",
              "      <td>213048.0</td>\n",
              "      <td>40.751450</td>\n",
              "      <td>-73.976051</td>\n",
              "    </tr>\n",
              "    <tr>\n",
              "      <th>1059</th>\n",
              "      <td>225359770</td>\n",
              "      <td>2021-03-09</td>\n",
              "      <td>115.0</td>\n",
              "      <td>RECKLESS ENDANGERMENT 2</td>\n",
              "      <td>355.0</td>\n",
              "      <td>OFFENSES AGAINST THE PERSON</td>\n",
              "      <td>PL 1202000</td>\n",
              "      <td>M</td>\n",
              "      <td>B</td>\n",
              "      <td>45</td>\n",
              "      <td>0.0</td>\n",
              "      <td>18-24</td>\n",
              "      <td>M</td>\n",
              "      <td>BLACK HISPANIC</td>\n",
              "      <td>1039281.0</td>\n",
              "      <td>254741.0</td>\n",
              "      <td>40.865717</td>\n",
              "      <td>-73.801040</td>\n",
              "    </tr>\n",
              "    <tr>\n",
              "      <th>...</th>\n",
              "      <td>...</td>\n",
              "      <td>...</td>\n",
              "      <td>...</td>\n",
              "      <td>...</td>\n",
              "      <td>...</td>\n",
              "      <td>...</td>\n",
              "      <td>...</td>\n",
              "      <td>...</td>\n",
              "      <td>...</td>\n",
              "      <td>...</td>\n",
              "      <td>...</td>\n",
              "      <td>...</td>\n",
              "      <td>...</td>\n",
              "      <td>...</td>\n",
              "      <td>...</td>\n",
              "      <td>...</td>\n",
              "      <td>...</td>\n",
              "      <td>...</td>\n",
              "    </tr>\n",
              "    <tr>\n",
              "      <th>5152719</th>\n",
              "      <td>209522076</td>\n",
              "      <td>2020-02-13</td>\n",
              "      <td>115.0</td>\n",
              "      <td>RECKLESS ENDANGERMENT 2</td>\n",
              "      <td>355.0</td>\n",
              "      <td>OFFENSES AGAINST THE PERSON</td>\n",
              "      <td>PL 1202000</td>\n",
              "      <td>M</td>\n",
              "      <td>Q</td>\n",
              "      <td>108</td>\n",
              "      <td>0.0</td>\n",
              "      <td>25-44</td>\n",
              "      <td>M</td>\n",
              "      <td>WHITE HISPANIC</td>\n",
              "      <td>1009681.0</td>\n",
              "      <td>207938.0</td>\n",
              "      <td>40.737390</td>\n",
              "      <td>-73.908234</td>\n",
              "    </tr>\n",
              "    <tr>\n",
              "      <th>5152820</th>\n",
              "      <td>207561950</td>\n",
              "      <td>2020-01-07</td>\n",
              "      <td>115.0</td>\n",
              "      <td>RECKLESS ENDANGERMENT 2</td>\n",
              "      <td>355.0</td>\n",
              "      <td>OFFENSES AGAINST THE PERSON</td>\n",
              "      <td>PL 1202000</td>\n",
              "      <td>M</td>\n",
              "      <td>S</td>\n",
              "      <td>123</td>\n",
              "      <td>0.0</td>\n",
              "      <td>25-44</td>\n",
              "      <td>F</td>\n",
              "      <td>WHITE</td>\n",
              "      <td>918937.0</td>\n",
              "      <td>122382.0</td>\n",
              "      <td>40.502353</td>\n",
              "      <td>-74.234854</td>\n",
              "    </tr>\n",
              "    <tr>\n",
              "      <th>5153103</th>\n",
              "      <td>206907028</td>\n",
              "      <td>2020-01-02</td>\n",
              "      <td>115.0</td>\n",
              "      <td>RECKLESS ENDANGERMENT 2</td>\n",
              "      <td>355.0</td>\n",
              "      <td>OFFENSES AGAINST THE PERSON</td>\n",
              "      <td>PL 1202000</td>\n",
              "      <td>M</td>\n",
              "      <td>B</td>\n",
              "      <td>48</td>\n",
              "      <td>0.0</td>\n",
              "      <td>25-44</td>\n",
              "      <td>M</td>\n",
              "      <td>BLACK HISPANIC</td>\n",
              "      <td>1014131.0</td>\n",
              "      <td>247458.0</td>\n",
              "      <td>40.845848</td>\n",
              "      <td>-73.892001</td>\n",
              "    </tr>\n",
              "    <tr>\n",
              "      <th>5153240</th>\n",
              "      <td>207781314</td>\n",
              "      <td>2020-01-12</td>\n",
              "      <td>181.0</td>\n",
              "      <td>IMPRISONMENT 2,UNLAWFUL</td>\n",
              "      <td>355.0</td>\n",
              "      <td>OFFENSES AGAINST THE PERSON</td>\n",
              "      <td>PL 1350500</td>\n",
              "      <td>M</td>\n",
              "      <td>B</td>\n",
              "      <td>47</td>\n",
              "      <td>0.0</td>\n",
              "      <td>25-44</td>\n",
              "      <td>M</td>\n",
              "      <td>WHITE HISPANIC</td>\n",
              "      <td>1021797.0</td>\n",
              "      <td>263197.0</td>\n",
              "      <td>40.889017</td>\n",
              "      <td>-73.864205</td>\n",
              "    </tr>\n",
              "    <tr>\n",
              "      <th>5153329</th>\n",
              "      <td>208853858</td>\n",
              "      <td>2020-02-01</td>\n",
              "      <td>115.0</td>\n",
              "      <td>RECKLESS ENDANGERMENT 2</td>\n",
              "      <td>355.0</td>\n",
              "      <td>OFFENSES AGAINST THE PERSON</td>\n",
              "      <td>PL 1202000</td>\n",
              "      <td>M</td>\n",
              "      <td>Q</td>\n",
              "      <td>103</td>\n",
              "      <td>71.0</td>\n",
              "      <td>18-24</td>\n",
              "      <td>M</td>\n",
              "      <td>BLACK</td>\n",
              "      <td>1040260.0</td>\n",
              "      <td>197679.0</td>\n",
              "      <td>40.709091</td>\n",
              "      <td>-73.797976</td>\n",
              "    </tr>\n",
              "  </tbody>\n",
              "</table>\n",
              "<p>23783 rows × 18 columns</p>\n",
              "</div>"
            ],
            "text/plain": [
              "         ARREST_KEY ARREST_DATE  PD_CD  ... Y_COORD_CD   Latitude  Longitude\n",
              "467       225007183  2021-03-01  115.0  ...   178188.0  40.655762 -73.958126\n",
              "499       225705682  2021-03-16  115.0  ...   184351.0  40.672658 -73.919625\n",
              "677       225168297  2021-03-05  115.0  ...   150502.0  40.579658 -73.834058\n",
              "759       224862401  2021-02-25  115.0  ...   213048.0  40.751450 -73.976051\n",
              "1059      225359770  2021-03-09  115.0  ...   254741.0  40.865717 -73.801040\n",
              "...             ...         ...    ...  ...        ...        ...        ...\n",
              "5152719   209522076  2020-02-13  115.0  ...   207938.0  40.737390 -73.908234\n",
              "5152820   207561950  2020-01-07  115.0  ...   122382.0  40.502353 -74.234854\n",
              "5153103   206907028  2020-01-02  115.0  ...   247458.0  40.845848 -73.892001\n",
              "5153240   207781314  2020-01-12  181.0  ...   263197.0  40.889017 -73.864205\n",
              "5153329   208853858  2020-02-01  115.0  ...   197679.0  40.709091 -73.797976\n",
              "\n",
              "[23783 rows x 18 columns]"
            ]
          },
          "metadata": {
            "tags": []
          },
          "execution_count": 46
        }
      ]
    },
    {
      "cell_type": "markdown",
      "metadata": {
        "id": "N7qJqopL_5Lx"
      },
      "source": [
        ""
      ]
    }
  ]
}